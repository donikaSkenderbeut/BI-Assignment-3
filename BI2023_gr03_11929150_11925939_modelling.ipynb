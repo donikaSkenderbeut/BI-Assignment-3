{
 "cells": [
  {
   "cell_type": "code",
   "execution_count": 1,
   "metadata": {},
   "outputs": [],
   "source": [
    "import pandas as pd\n",
    "import numpy as np\n",
    "import matplotlib.pyplot as plt\n",
    "from sklearn.metrics import classification_report, jaccard_score, f1_score\n",
    "from sklearn.preprocessing import OneHotEncoder, StandardScaler\n",
    "from sklearn.compose import ColumnTransformer\n",
    "from sklearn.pipeline import Pipeline\n",
    "from skmultilearn.model_selection import iterative_train_test_split\n",
    "from sklearn.linear_model import LogisticRegression, RidgeClassifier\n",
    "from sklearn.multioutput import ClassifierChain\n",
    "from collections import Counter"
   ]
  },
  {
   "cell_type": "code",
   "execution_count": 2,
   "metadata": {},
   "outputs": [
    {
     "name": "stdout",
     "output_type": "stream",
     "text": [
      "<class 'pandas.core.frame.DataFrame'>\n",
      "RangeIndex: 2211 entries, 0 to 2210\n",
      "Data columns (total 39 columns):\n",
      " #   Column                Non-Null Count  Dtype  \n",
      "---  ------                --------------  -----  \n",
      " 0   ID                    2211 non-null   int64  \n",
      " 1   Year_Birth            2211 non-null   int64  \n",
      " 2   Education             2211 non-null   object \n",
      " 3   Marital_Status        2211 non-null   object \n",
      " 4   Income                2211 non-null   float64\n",
      " 5   Kidhome               2211 non-null   int64  \n",
      " 6   Teenhome              2211 non-null   int64  \n",
      " 7   Dt_Customer           2211 non-null   object \n",
      " 8   Recency               2211 non-null   int64  \n",
      " 9   MntWines              2211 non-null   int64  \n",
      " 10  MntFruits             2211 non-null   int64  \n",
      " 11  MntMeatProducts       2211 non-null   int64  \n",
      " 12  MntFishProducts       2211 non-null   int64  \n",
      " 13  MntSweetProducts      2211 non-null   int64  \n",
      " 14  MntGoldProds          2211 non-null   int64  \n",
      " 15  NumDealsPurchases     2211 non-null   int64  \n",
      " 16  NumWebPurchases       2211 non-null   int64  \n",
      " 17  NumCatalogPurchases   2211 non-null   int64  \n",
      " 18  NumStorePurchases     2211 non-null   int64  \n",
      " 19  NumWebVisitsMonth     2211 non-null   int64  \n",
      " 20  AcceptedCmp3          2211 non-null   int64  \n",
      " 21  AcceptedCmp4          2211 non-null   int64  \n",
      " 22  AcceptedCmp5          2211 non-null   int64  \n",
      " 23  AcceptedCmp1          2211 non-null   int64  \n",
      " 24  AcceptedCmp2          2211 non-null   int64  \n",
      " 25  Complain              2211 non-null   int64  \n",
      " 26  Z_CostContact         2211 non-null   int64  \n",
      " 27  Z_Revenue             2211 non-null   int64  \n",
      " 28  AcceptedCmp6          2211 non-null   int64  \n",
      " 29  AcceptedCampaigns     2211 non-null   object \n",
      " 30  Age                   2211 non-null   int64  \n",
      " 31  Customer_Since_Days   2211 non-null   int64  \n",
      " 32  AgeGroup              2211 non-null   object \n",
      " 33  TotalSpending         2211 non-null   int64  \n",
      " 34  CLV                   2211 non-null   int64  \n",
      " 35  FamilySize            2211 non-null   int64  \n",
      " 36  IncomeBracket         2211 non-null   object \n",
      " 37  RecencyCategory       2211 non-null   object \n",
      " 38  NumAcceptedCampaigns  2211 non-null   int64  \n",
      "dtypes: float64(1), int64(31), object(7)\n",
      "memory usage: 673.8+ KB\n"
     ]
    }
   ],
   "source": [
    "df = pd.read_csv('./data/marketing_campaign_engineered.csv')\n",
    "df.info()"
   ]
  },
  {
   "cell_type": "code",
   "execution_count": 3,
   "metadata": {},
   "outputs": [],
   "source": [
    "features = ['Education', 'Marital_Status', 'Income', 'Kidhome', 'Teenhome', \n",
    "            'Recency', 'MntWines', 'MntFruits', 'MntMeatProducts', 'MntFishProducts', \n",
    "            'MntSweetProducts', 'MntGoldProds', 'NumDealsPurchases', 'NumWebPurchases', \n",
    "            'NumCatalogPurchases', 'NumStorePurchases', 'NumWebVisitsMonth']\n",
    "categorical_features = ['Education', 'Marital_Status']\n",
    "numerical_features = [feature for feature in features if feature not in categorical_features]\n",
    "labels = ['AcceptedCmp1', 'AcceptedCmp2', 'AcceptedCmp3', 'AcceptedCmp4', \n",
    "          'AcceptedCmp5', 'AcceptedCmp6']"
   ]
  },
  {
   "cell_type": "code",
   "execution_count": 4,
   "metadata": {},
   "outputs": [
    {
     "data": {
      "text/plain": [
       "((1606, 39), (236, 39))"
      ]
     },
     "execution_count": 4,
     "metadata": {},
     "output_type": "execute_result"
    }
   ],
   "source": [
    "df[df['NumAcceptedCampaigns'] == 0].shape, df[df['NumAcceptedCampaigns'] >= 2].shape"
   ]
  },
  {
   "cell_type": "markdown",
   "metadata": {},
   "source": [
    "The following problem arises with our data. We have more than 72% of the data that hasn't accepted any of the campaigns and only 236 that have accepted two or more. There is a huge class imbalance and furthermore even between the labels we have imbalances. \n",
    "\n",
    "Stratifying the splits is a task not supported by the generic `train_test_split` method, thus we need to employ more robust methods like `iterative_train_test_split`. Cross Validation is also problematic since having stratified folds for a multiclass problem is still an unsolved problem and there are no robust algorithms to provide a solution (_Sechidis et al._)\n",
    "\n",
    "Thus we will try first performing a stratified split but skipping the Cross Validation and trying to fix the hyperparameters \"by hand\". Next we will also forego stratification in order to try CrossValidation."
   ]
  },
  {
   "cell_type": "markdown",
   "metadata": {},
   "source": [
    "## Stratification No CV\n",
    "\n",
    "Another thing to consider is that depending on the test size, not all classes will be contained on the test/validation set, so we have to consider either having a smaller train size but having all cases included in all splits or not"
   ]
  },
  {
   "cell_type": "code",
   "execution_count": 5,
   "metadata": {},
   "outputs": [],
   "source": [
    "def prepare_iterative_ts(X, y, features, labels, test_size):\n",
    "    X_train, y_train, X_test, y_test = iterative_train_test_split(X.values, y.values, test_size = test_size)\n",
    "\n",
    "    X_train = pd.DataFrame(X_train, columns=features)\n",
    "    X_test = pd.DataFrame(X_test, columns=features)\n",
    "    y_train = pd.DataFrame(y_train, columns=labels)\n",
    "    y_test = pd.DataFrame(y_test, columns=labels)\n",
    "\n",
    "    return X_train, X_test, y_train, y_test"
   ]
  },
  {
   "cell_type": "code",
   "execution_count": 6,
   "metadata": {},
   "outputs": [],
   "source": [
    "X_trainval, X_test, y_trainval, y_test = prepare_iterative_ts(df[features], df[labels], features, labels, test_size=0.1)\n",
    "X_train, X_val, y_train, y_val = prepare_iterative_ts(X_trainval, y_trainval, features, labels, test_size=0.32)"
   ]
  },
  {
   "cell_type": "markdown",
   "metadata": {},
   "source": [
    "### RidgeClassifier\n",
    "\n",
    "Ridge Classifier inherently supports multilabel tasks, we will just standardize the data and one hot encode the categorical variables."
   ]
  },
  {
   "cell_type": "code",
   "execution_count": 7,
   "metadata": {},
   "outputs": [],
   "source": [
    "preprocessor = ColumnTransformer(\n",
    "    transformers=[\n",
    "        ('num', StandardScaler(), numerical_features),\n",
    "        ('cat', OneHotEncoder(categories=[['Graduation', 'PhD', 'Master', 'Basic'], \n",
    "                                          ['Single', 'Together', 'Married', 'Divorced', \n",
    "                                           'Widow', 'Others']]), categorical_features)\n",
    "    ])"
   ]
  },
  {
   "cell_type": "code",
   "execution_count": 8,
   "metadata": {},
   "outputs": [],
   "source": [
    "X_train_transformed = preprocessor.fit_transform(X_train)\n",
    "X_val_transformed = preprocessor.transform(X_val)"
   ]
  },
  {
   "cell_type": "code",
   "execution_count": 9,
   "metadata": {},
   "outputs": [
    {
     "data": {
      "text/html": [
       "<style>#sk-container-id-1 {\n",
       "  /* Definition of color scheme common for light and dark mode */\n",
       "  --sklearn-color-text: black;\n",
       "  --sklearn-color-line: gray;\n",
       "  /* Definition of color scheme for unfitted estimators */\n",
       "  --sklearn-color-unfitted-level-0: #fff5e6;\n",
       "  --sklearn-color-unfitted-level-1: #f6e4d2;\n",
       "  --sklearn-color-unfitted-level-2: #ffe0b3;\n",
       "  --sklearn-color-unfitted-level-3: chocolate;\n",
       "  /* Definition of color scheme for fitted estimators */\n",
       "  --sklearn-color-fitted-level-0: #f0f8ff;\n",
       "  --sklearn-color-fitted-level-1: #d4ebff;\n",
       "  --sklearn-color-fitted-level-2: #b3dbfd;\n",
       "  --sklearn-color-fitted-level-3: cornflowerblue;\n",
       "\n",
       "  /* Specific color for light theme */\n",
       "  --sklearn-color-text-on-default-background: var(--sg-text-color, var(--theme-code-foreground, var(--jp-content-font-color1, black)));\n",
       "  --sklearn-color-background: var(--sg-background-color, var(--theme-background, var(--jp-layout-color0, white)));\n",
       "  --sklearn-color-border-box: var(--sg-text-color, var(--theme-code-foreground, var(--jp-content-font-color1, black)));\n",
       "  --sklearn-color-icon: #696969;\n",
       "\n",
       "  @media (prefers-color-scheme: dark) {\n",
       "    /* Redefinition of color scheme for dark theme */\n",
       "    --sklearn-color-text-on-default-background: var(--sg-text-color, var(--theme-code-foreground, var(--jp-content-font-color1, white)));\n",
       "    --sklearn-color-background: var(--sg-background-color, var(--theme-background, var(--jp-layout-color0, #111)));\n",
       "    --sklearn-color-border-box: var(--sg-text-color, var(--theme-code-foreground, var(--jp-content-font-color1, white)));\n",
       "    --sklearn-color-icon: #878787;\n",
       "  }\n",
       "}\n",
       "\n",
       "#sk-container-id-1 {\n",
       "  color: var(--sklearn-color-text);\n",
       "}\n",
       "\n",
       "#sk-container-id-1 pre {\n",
       "  padding: 0;\n",
       "}\n",
       "\n",
       "#sk-container-id-1 input.sk-hidden--visually {\n",
       "  border: 0;\n",
       "  clip: rect(1px 1px 1px 1px);\n",
       "  clip: rect(1px, 1px, 1px, 1px);\n",
       "  height: 1px;\n",
       "  margin: -1px;\n",
       "  overflow: hidden;\n",
       "  padding: 0;\n",
       "  position: absolute;\n",
       "  width: 1px;\n",
       "}\n",
       "\n",
       "#sk-container-id-1 div.sk-dashed-wrapped {\n",
       "  border: 1px dashed var(--sklearn-color-line);\n",
       "  margin: 0 0.4em 0.5em 0.4em;\n",
       "  box-sizing: border-box;\n",
       "  padding-bottom: 0.4em;\n",
       "  background-color: var(--sklearn-color-background);\n",
       "}\n",
       "\n",
       "#sk-container-id-1 div.sk-container {\n",
       "  /* jupyter's `normalize.less` sets `[hidden] { display: none; }`\n",
       "     but bootstrap.min.css set `[hidden] { display: none !important; }`\n",
       "     so we also need the `!important` here to be able to override the\n",
       "     default hidden behavior on the sphinx rendered scikit-learn.org.\n",
       "     See: https://github.com/scikit-learn/scikit-learn/issues/21755 */\n",
       "  display: inline-block !important;\n",
       "  position: relative;\n",
       "}\n",
       "\n",
       "#sk-container-id-1 div.sk-text-repr-fallback {\n",
       "  display: none;\n",
       "}\n",
       "\n",
       "div.sk-parallel-item,\n",
       "div.sk-serial,\n",
       "div.sk-item {\n",
       "  /* draw centered vertical line to link estimators */\n",
       "  background-image: linear-gradient(var(--sklearn-color-text-on-default-background), var(--sklearn-color-text-on-default-background));\n",
       "  background-size: 2px 100%;\n",
       "  background-repeat: no-repeat;\n",
       "  background-position: center center;\n",
       "}\n",
       "\n",
       "/* Parallel-specific style estimator block */\n",
       "\n",
       "#sk-container-id-1 div.sk-parallel-item::after {\n",
       "  content: \"\";\n",
       "  width: 100%;\n",
       "  border-bottom: 2px solid var(--sklearn-color-text-on-default-background);\n",
       "  flex-grow: 1;\n",
       "}\n",
       "\n",
       "#sk-container-id-1 div.sk-parallel {\n",
       "  display: flex;\n",
       "  align-items: stretch;\n",
       "  justify-content: center;\n",
       "  background-color: var(--sklearn-color-background);\n",
       "  position: relative;\n",
       "}\n",
       "\n",
       "#sk-container-id-1 div.sk-parallel-item {\n",
       "  display: flex;\n",
       "  flex-direction: column;\n",
       "}\n",
       "\n",
       "#sk-container-id-1 div.sk-parallel-item:first-child::after {\n",
       "  align-self: flex-end;\n",
       "  width: 50%;\n",
       "}\n",
       "\n",
       "#sk-container-id-1 div.sk-parallel-item:last-child::after {\n",
       "  align-self: flex-start;\n",
       "  width: 50%;\n",
       "}\n",
       "\n",
       "#sk-container-id-1 div.sk-parallel-item:only-child::after {\n",
       "  width: 0;\n",
       "}\n",
       "\n",
       "/* Serial-specific style estimator block */\n",
       "\n",
       "#sk-container-id-1 div.sk-serial {\n",
       "  display: flex;\n",
       "  flex-direction: column;\n",
       "  align-items: center;\n",
       "  background-color: var(--sklearn-color-background);\n",
       "  padding-right: 1em;\n",
       "  padding-left: 1em;\n",
       "}\n",
       "\n",
       "\n",
       "/* Toggleable style: style used for estimator/Pipeline/ColumnTransformer box that is\n",
       "clickable and can be expanded/collapsed.\n",
       "- Pipeline and ColumnTransformer use this feature and define the default style\n",
       "- Estimators will overwrite some part of the style using the `sk-estimator` class\n",
       "*/\n",
       "\n",
       "/* Pipeline and ColumnTransformer style (default) */\n",
       "\n",
       "#sk-container-id-1 div.sk-toggleable {\n",
       "  /* Default theme specific background. It is overwritten whether we have a\n",
       "  specific estimator or a Pipeline/ColumnTransformer */\n",
       "  background-color: var(--sklearn-color-background);\n",
       "}\n",
       "\n",
       "/* Toggleable label */\n",
       "#sk-container-id-1 label.sk-toggleable__label {\n",
       "  cursor: pointer;\n",
       "  display: block;\n",
       "  width: 100%;\n",
       "  margin-bottom: 0;\n",
       "  padding: 0.5em;\n",
       "  box-sizing: border-box;\n",
       "  text-align: center;\n",
       "}\n",
       "\n",
       "#sk-container-id-1 label.sk-toggleable__label-arrow:before {\n",
       "  /* Arrow on the left of the label */\n",
       "  content: \"▸\";\n",
       "  float: left;\n",
       "  margin-right: 0.25em;\n",
       "  color: var(--sklearn-color-icon);\n",
       "}\n",
       "\n",
       "#sk-container-id-1 label.sk-toggleable__label-arrow:hover:before {\n",
       "  color: var(--sklearn-color-text);\n",
       "}\n",
       "\n",
       "/* Toggleable content - dropdown */\n",
       "\n",
       "#sk-container-id-1 div.sk-toggleable__content {\n",
       "  max-height: 0;\n",
       "  max-width: 0;\n",
       "  overflow: hidden;\n",
       "  text-align: left;\n",
       "  /* unfitted */\n",
       "  background-color: var(--sklearn-color-unfitted-level-0);\n",
       "}\n",
       "\n",
       "#sk-container-id-1 div.sk-toggleable__content.fitted {\n",
       "  /* fitted */\n",
       "  background-color: var(--sklearn-color-fitted-level-0);\n",
       "}\n",
       "\n",
       "#sk-container-id-1 div.sk-toggleable__content pre {\n",
       "  margin: 0.2em;\n",
       "  border-radius: 0.25em;\n",
       "  color: var(--sklearn-color-text);\n",
       "  /* unfitted */\n",
       "  background-color: var(--sklearn-color-unfitted-level-0);\n",
       "}\n",
       "\n",
       "#sk-container-id-1 div.sk-toggleable__content.fitted pre {\n",
       "  /* unfitted */\n",
       "  background-color: var(--sklearn-color-fitted-level-0);\n",
       "}\n",
       "\n",
       "#sk-container-id-1 input.sk-toggleable__control:checked~div.sk-toggleable__content {\n",
       "  /* Expand drop-down */\n",
       "  max-height: 200px;\n",
       "  max-width: 100%;\n",
       "  overflow: auto;\n",
       "}\n",
       "\n",
       "#sk-container-id-1 input.sk-toggleable__control:checked~label.sk-toggleable__label-arrow:before {\n",
       "  content: \"▾\";\n",
       "}\n",
       "\n",
       "/* Pipeline/ColumnTransformer-specific style */\n",
       "\n",
       "#sk-container-id-1 div.sk-label input.sk-toggleable__control:checked~label.sk-toggleable__label {\n",
       "  color: var(--sklearn-color-text);\n",
       "  background-color: var(--sklearn-color-unfitted-level-2);\n",
       "}\n",
       "\n",
       "#sk-container-id-1 div.sk-label.fitted input.sk-toggleable__control:checked~label.sk-toggleable__label {\n",
       "  background-color: var(--sklearn-color-fitted-level-2);\n",
       "}\n",
       "\n",
       "/* Estimator-specific style */\n",
       "\n",
       "/* Colorize estimator box */\n",
       "#sk-container-id-1 div.sk-estimator input.sk-toggleable__control:checked~label.sk-toggleable__label {\n",
       "  /* unfitted */\n",
       "  background-color: var(--sklearn-color-unfitted-level-2);\n",
       "}\n",
       "\n",
       "#sk-container-id-1 div.sk-estimator.fitted input.sk-toggleable__control:checked~label.sk-toggleable__label {\n",
       "  /* fitted */\n",
       "  background-color: var(--sklearn-color-fitted-level-2);\n",
       "}\n",
       "\n",
       "#sk-container-id-1 div.sk-label label.sk-toggleable__label,\n",
       "#sk-container-id-1 div.sk-label label {\n",
       "  /* The background is the default theme color */\n",
       "  color: var(--sklearn-color-text-on-default-background);\n",
       "}\n",
       "\n",
       "/* On hover, darken the color of the background */\n",
       "#sk-container-id-1 div.sk-label:hover label.sk-toggleable__label {\n",
       "  color: var(--sklearn-color-text);\n",
       "  background-color: var(--sklearn-color-unfitted-level-2);\n",
       "}\n",
       "\n",
       "/* Label box, darken color on hover, fitted */\n",
       "#sk-container-id-1 div.sk-label.fitted:hover label.sk-toggleable__label.fitted {\n",
       "  color: var(--sklearn-color-text);\n",
       "  background-color: var(--sklearn-color-fitted-level-2);\n",
       "}\n",
       "\n",
       "/* Estimator label */\n",
       "\n",
       "#sk-container-id-1 div.sk-label label {\n",
       "  font-family: monospace;\n",
       "  font-weight: bold;\n",
       "  display: inline-block;\n",
       "  line-height: 1.2em;\n",
       "}\n",
       "\n",
       "#sk-container-id-1 div.sk-label-container {\n",
       "  text-align: center;\n",
       "}\n",
       "\n",
       "/* Estimator-specific */\n",
       "#sk-container-id-1 div.sk-estimator {\n",
       "  font-family: monospace;\n",
       "  border: 1px dotted var(--sklearn-color-border-box);\n",
       "  border-radius: 0.25em;\n",
       "  box-sizing: border-box;\n",
       "  margin-bottom: 0.5em;\n",
       "  /* unfitted */\n",
       "  background-color: var(--sklearn-color-unfitted-level-0);\n",
       "}\n",
       "\n",
       "#sk-container-id-1 div.sk-estimator.fitted {\n",
       "  /* fitted */\n",
       "  background-color: var(--sklearn-color-fitted-level-0);\n",
       "}\n",
       "\n",
       "/* on hover */\n",
       "#sk-container-id-1 div.sk-estimator:hover {\n",
       "  /* unfitted */\n",
       "  background-color: var(--sklearn-color-unfitted-level-2);\n",
       "}\n",
       "\n",
       "#sk-container-id-1 div.sk-estimator.fitted:hover {\n",
       "  /* fitted */\n",
       "  background-color: var(--sklearn-color-fitted-level-2);\n",
       "}\n",
       "\n",
       "/* Specification for estimator info (e.g. \"i\" and \"?\") */\n",
       "\n",
       "/* Common style for \"i\" and \"?\" */\n",
       "\n",
       ".sk-estimator-doc-link,\n",
       "a:link.sk-estimator-doc-link,\n",
       "a:visited.sk-estimator-doc-link {\n",
       "  float: right;\n",
       "  font-size: smaller;\n",
       "  line-height: 1em;\n",
       "  font-family: monospace;\n",
       "  background-color: var(--sklearn-color-background);\n",
       "  border-radius: 1em;\n",
       "  height: 1em;\n",
       "  width: 1em;\n",
       "  text-decoration: none !important;\n",
       "  margin-left: 1ex;\n",
       "  /* unfitted */\n",
       "  border: var(--sklearn-color-unfitted-level-1) 1pt solid;\n",
       "  color: var(--sklearn-color-unfitted-level-1);\n",
       "}\n",
       "\n",
       ".sk-estimator-doc-link.fitted,\n",
       "a:link.sk-estimator-doc-link.fitted,\n",
       "a:visited.sk-estimator-doc-link.fitted {\n",
       "  /* fitted */\n",
       "  border: var(--sklearn-color-fitted-level-1) 1pt solid;\n",
       "  color: var(--sklearn-color-fitted-level-1);\n",
       "}\n",
       "\n",
       "/* On hover */\n",
       "div.sk-estimator:hover .sk-estimator-doc-link:hover,\n",
       ".sk-estimator-doc-link:hover,\n",
       "div.sk-label-container:hover .sk-estimator-doc-link:hover,\n",
       ".sk-estimator-doc-link:hover {\n",
       "  /* unfitted */\n",
       "  background-color: var(--sklearn-color-unfitted-level-3);\n",
       "  color: var(--sklearn-color-background);\n",
       "  text-decoration: none;\n",
       "}\n",
       "\n",
       "div.sk-estimator.fitted:hover .sk-estimator-doc-link.fitted:hover,\n",
       ".sk-estimator-doc-link.fitted:hover,\n",
       "div.sk-label-container:hover .sk-estimator-doc-link.fitted:hover,\n",
       ".sk-estimator-doc-link.fitted:hover {\n",
       "  /* fitted */\n",
       "  background-color: var(--sklearn-color-fitted-level-3);\n",
       "  color: var(--sklearn-color-background);\n",
       "  text-decoration: none;\n",
       "}\n",
       "\n",
       "/* Span, style for the box shown on hovering the info icon */\n",
       ".sk-estimator-doc-link span {\n",
       "  display: none;\n",
       "  z-index: 9999;\n",
       "  position: relative;\n",
       "  font-weight: normal;\n",
       "  right: .2ex;\n",
       "  padding: .5ex;\n",
       "  margin: .5ex;\n",
       "  width: min-content;\n",
       "  min-width: 20ex;\n",
       "  max-width: 50ex;\n",
       "  color: var(--sklearn-color-text);\n",
       "  box-shadow: 2pt 2pt 4pt #999;\n",
       "  /* unfitted */\n",
       "  background: var(--sklearn-color-unfitted-level-0);\n",
       "  border: .5pt solid var(--sklearn-color-unfitted-level-3);\n",
       "}\n",
       "\n",
       ".sk-estimator-doc-link.fitted span {\n",
       "  /* fitted */\n",
       "  background: var(--sklearn-color-fitted-level-0);\n",
       "  border: var(--sklearn-color-fitted-level-3);\n",
       "}\n",
       "\n",
       ".sk-estimator-doc-link:hover span {\n",
       "  display: block;\n",
       "}\n",
       "\n",
       "/* \"?\"-specific style due to the `<a>` HTML tag */\n",
       "\n",
       "#sk-container-id-1 a.estimator_doc_link {\n",
       "  float: right;\n",
       "  font-size: 1rem;\n",
       "  line-height: 1em;\n",
       "  font-family: monospace;\n",
       "  background-color: var(--sklearn-color-background);\n",
       "  border-radius: 1rem;\n",
       "  height: 1rem;\n",
       "  width: 1rem;\n",
       "  text-decoration: none;\n",
       "  /* unfitted */\n",
       "  color: var(--sklearn-color-unfitted-level-1);\n",
       "  border: var(--sklearn-color-unfitted-level-1) 1pt solid;\n",
       "}\n",
       "\n",
       "#sk-container-id-1 a.estimator_doc_link.fitted {\n",
       "  /* fitted */\n",
       "  border: var(--sklearn-color-fitted-level-1) 1pt solid;\n",
       "  color: var(--sklearn-color-fitted-level-1);\n",
       "}\n",
       "\n",
       "/* On hover */\n",
       "#sk-container-id-1 a.estimator_doc_link:hover {\n",
       "  /* unfitted */\n",
       "  background-color: var(--sklearn-color-unfitted-level-3);\n",
       "  color: var(--sklearn-color-background);\n",
       "  text-decoration: none;\n",
       "}\n",
       "\n",
       "#sk-container-id-1 a.estimator_doc_link.fitted:hover {\n",
       "  /* fitted */\n",
       "  background-color: var(--sklearn-color-fitted-level-3);\n",
       "}\n",
       "</style><div id=\"sk-container-id-1\" class=\"sk-top-container\"><div class=\"sk-text-repr-fallback\"><pre>RidgeClassifier(fit_intercept=False)</pre><b>In a Jupyter environment, please rerun this cell to show the HTML representation or trust the notebook. <br />On GitHub, the HTML representation is unable to render, please try loading this page with nbviewer.org.</b></div><div class=\"sk-container\" hidden><div class=\"sk-item\"><div class=\"sk-estimator fitted sk-toggleable\"><input class=\"sk-toggleable__control sk-hidden--visually\" id=\"sk-estimator-id-1\" type=\"checkbox\" checked><label for=\"sk-estimator-id-1\" class=\"sk-toggleable__label fitted sk-toggleable__label-arrow fitted\">&nbsp;&nbsp;RidgeClassifier<a class=\"sk-estimator-doc-link fitted\" rel=\"noreferrer\" target=\"_blank\" href=\"https://scikit-learn.org/1.4/modules/generated/sklearn.linear_model.RidgeClassifier.html\">?<span>Documentation for RidgeClassifier</span></a><span class=\"sk-estimator-doc-link fitted\">i<span>Fitted</span></span></label><div class=\"sk-toggleable__content fitted\"><pre>RidgeClassifier(fit_intercept=False)</pre></div> </div></div></div></div>"
      ],
      "text/plain": [
       "RidgeClassifier(fit_intercept=False)"
      ]
     },
     "execution_count": 9,
     "metadata": {},
     "output_type": "execute_result"
    }
   ],
   "source": [
    "ridge_clf_1 = RidgeClassifier(fit_intercept=False) # intercept not needed since data already centered\n",
    "ridge_clf_1.fit(X_train_transformed, y_train)"
   ]
  },
  {
   "cell_type": "code",
   "execution_count": 10,
   "metadata": {},
   "outputs": [
    {
     "name": "stdout",
     "output_type": "stream",
     "text": [
      "              precision    recall  f1-score   support\n",
      "\n",
      "           0       0.00      0.00      0.00        41\n",
      "           1       0.00      0.00      0.00         8\n",
      "           2       0.00      0.00      0.00        47\n",
      "           3       1.00      0.02      0.04        47\n",
      "           4       0.83      0.21      0.34        47\n",
      "           5       0.67      0.15      0.24        96\n",
      "\n",
      "   micro avg       0.74      0.09      0.16       286\n",
      "   macro avg       0.42      0.06      0.10       286\n",
      "weighted avg       0.53      0.09      0.14       286\n",
      " samples avg       0.03      0.02      0.03       286\n",
      "\n"
     ]
    }
   ],
   "source": [
    "predictions = ridge_clf_1.predict(X_val_transformed)\n",
    "print(classification_report(y_val, predictions, zero_division=0))"
   ]
  },
  {
   "cell_type": "code",
   "execution_count": 11,
   "metadata": {},
   "outputs": [
    {
     "data": {
      "text/plain": [
       "((459, 6), (637, 6))"
      ]
     },
     "execution_count": 11,
     "metadata": {},
     "output_type": "execute_result"
    }
   ],
   "source": [
    "y_val[y_val.sum(axis=1) == 0].shape, y_val.shape"
   ]
  },
  {
   "cell_type": "markdown",
   "metadata": {},
   "source": [
    "Trying RidgeClassifiers with different alphas"
   ]
  },
  {
   "cell_type": "code",
   "execution_count": 12,
   "metadata": {},
   "outputs": [
    {
     "name": "stdout",
     "output_type": "stream",
     "text": [
      "              precision    recall  f1-score   support\n",
      "\n",
      "           0       0.00      0.00      0.00        41\n",
      "           1       0.00      0.00      0.00         8\n",
      "           2       0.00      0.00      0.00        47\n",
      "           3       1.00      0.02      0.04        47\n",
      "           4       0.83      0.21      0.34        47\n",
      "           5       0.67      0.15      0.24        96\n",
      "\n",
      "   micro avg       0.74      0.09      0.16       286\n",
      "   macro avg       0.42      0.06      0.10       286\n",
      "weighted avg       0.53      0.09      0.14       286\n",
      " samples avg       0.03      0.02      0.03       286\n",
      "\n"
     ]
    }
   ],
   "source": [
    "ridge_clf_2 = RidgeClassifier(fit_intercept=False, alpha=0.1) # intercept not needed since data already centered\n",
    "ridge_clf_2.fit(X_train_transformed, y_train)\n",
    "print(classification_report(y_val, ridge_clf_2.predict(X_val_transformed), zero_division=0))\n"
   ]
  },
  {
   "cell_type": "code",
   "execution_count": 13,
   "metadata": {},
   "outputs": [
    {
     "name": "stdout",
     "output_type": "stream",
     "text": [
      "              precision    recall  f1-score   support\n",
      "\n",
      "           0       0.00      0.00      0.00        41\n",
      "           1       0.00      0.00      0.00         8\n",
      "           2       0.00      0.00      0.00        47\n",
      "           3       1.00      0.02      0.04        47\n",
      "           4       0.83      0.21      0.34        47\n",
      "           5       0.67      0.15      0.24        96\n",
      "\n",
      "   micro avg       0.71      0.09      0.16       286\n",
      "   macro avg       0.42      0.06      0.10       286\n",
      "weighted avg       0.53      0.09      0.14       286\n",
      " samples avg       0.03      0.02      0.03       286\n",
      "\n"
     ]
    }
   ],
   "source": [
    "ridge_clf_3 = RidgeClassifier(fit_intercept=False, alpha=0.01) # intercept not needed since data already centered\n",
    "ridge_clf_3.fit(X_train_transformed, y_train)\n",
    "print(classification_report(y_val, ridge_clf_3.predict(X_val_transformed), zero_division=0))"
   ]
  },
  {
   "cell_type": "code",
   "execution_count": 14,
   "metadata": {},
   "outputs": [
    {
     "name": "stdout",
     "output_type": "stream",
     "text": [
      "              precision    recall  f1-score   support\n",
      "\n",
      "           0       0.00      0.00      0.00        41\n",
      "           1       0.00      0.00      0.00         8\n",
      "           2       0.00      0.00      0.00        47\n",
      "           3       1.00      0.02      0.04        47\n",
      "           4       0.83      0.21      0.34        47\n",
      "           5       0.67      0.15      0.24        96\n",
      "\n",
      "   micro avg       0.71      0.09      0.16       286\n",
      "   macro avg       0.42      0.06      0.10       286\n",
      "weighted avg       0.53      0.09      0.14       286\n",
      " samples avg       0.03      0.02      0.03       286\n",
      "\n"
     ]
    }
   ],
   "source": [
    "ridge_clf_4 = RidgeClassifier(fit_intercept=False, alpha=10) # intercept not needed since data already centered\n",
    "ridge_clf_4.fit(X_train_transformed, y_train)\n",
    "print(classification_report(y_val, ridge_clf_4.predict(X_val_transformed), zero_division=0))"
   ]
  },
  {
   "cell_type": "code",
   "execution_count": 15,
   "metadata": {},
   "outputs": [
    {
     "name": "stdout",
     "output_type": "stream",
     "text": [
      "              precision    recall  f1-score   support\n",
      "\n",
      "           0       0.00      0.00      0.00        41\n",
      "           1       0.00      0.00      0.00         8\n",
      "           2       0.00      0.00      0.00        47\n",
      "           3       1.00      0.02      0.04        47\n",
      "           4       0.69      0.19      0.30        47\n",
      "           5       0.70      0.17      0.27        96\n",
      "\n",
      "   micro avg       0.68      0.09      0.16       286\n",
      "   macro avg       0.40      0.06      0.10       286\n",
      "weighted avg       0.51      0.09      0.15       286\n",
      " samples avg       0.03      0.02      0.03       286\n",
      "\n"
     ]
    }
   ],
   "source": [
    "ridge_clf_5 = RidgeClassifier(fit_intercept=False, alpha=100) # intercept not needed since data already centered\n",
    "ridge_clf_5.fit(X_train_transformed, y_train)\n",
    "print(classification_report(y_val, ridge_clf_5.predict(X_val_transformed), zero_division=0))"
   ]
  },
  {
   "cell_type": "markdown",
   "metadata": {},
   "source": [
    "Seems like changing the alphas either has no influence or worsens the performers"
   ]
  },
  {
   "cell_type": "markdown",
   "metadata": {},
   "source": [
    "### LogisticRegression with ClassifierChains\n",
    "\n",
    "LogisticRegression inherently does not support any multilabel classification however when used as part of a ClassifierChain it can perform multilabel tasks. Furthermore ClassifierChains allow for exploiting correlations among targets. \n",
    "\n",
    "Clearly the order of the chain is important. The first model in the chain has no information about the other labels while the last model in the chain has features indicating the presence of all of the other labels. In general one does not know the optimal ordering of the models in the chain so typically many randomly ordered chains are fit and their predictions are averaged together."
   ]
  },
  {
   "cell_type": "code",
   "execution_count": 16,
   "metadata": {},
   "outputs": [],
   "source": [
    "def plot_jaccard_similarities_for_chains(chain_jaccard_scores, ensemble_jaccard_score, y_valid, Y_pred_ensemble, text):\n",
    "    # Prepare scores for plotting\n",
    "    model_scores = chain_jaccard_scores + [ensemble_jaccard_score]\n",
    "    model_names = [f\"Chain {i+1}\" for i in range(20)] + [\"Ensemble\"]\n",
    "    x_pos = np.arange(len(model_names))\n",
    "\n",
    "    valid_report = classification_report(y_valid, (Y_pred_ensemble >= 0.3).astype(int) , zero_division=0)\n",
    "    print(\"Validation Report (Ensemble):\\n\", valid_report)\n",
    "\n",
    "    # Plotting\n",
    "    fig, ax = plt.subplots(figsize=(7, 4))\n",
    "    ax.grid(True)\n",
    "    ax.set_title(text)\n",
    "    ax.set_xticks(x_pos)\n",
    "    ax.set_xticklabels(model_names, rotation=\"vertical\")\n",
    "    ax.set_ylabel(\"Jaccard Similarity Score\")\n",
    "    ax.set_ylim([min(model_scores) * 0.9, max(model_scores) * 1.1])\n",
    "    colors = [\"b\"] * 20 + [\"g\"]\n",
    "    ax.bar(x_pos, model_scores, alpha=0.5, color=colors)\n",
    "    plt.tight_layout()\n",
    "    plt.show()"
   ]
  },
  {
   "cell_type": "code",
   "execution_count": 17,
   "metadata": {},
   "outputs": [
    {
     "name": "stdout",
     "output_type": "stream",
     "text": [
      "Validation Report (Ensemble):\n",
      "               precision    recall  f1-score   support\n",
      "\n",
      "           0       0.42      0.34      0.38        41\n",
      "           1       0.33      0.25      0.29         8\n",
      "           2       0.33      0.17      0.23        47\n",
      "           3       0.53      0.38      0.44        47\n",
      "           4       0.63      0.57      0.60        47\n",
      "           5       0.47      0.40      0.43        96\n",
      "\n",
      "   micro avg       0.48      0.37      0.42       286\n",
      "   macro avg       0.45      0.35      0.39       286\n",
      "weighted avg       0.47      0.37      0.42       286\n",
      " samples avg       0.08      0.09      0.08       286\n",
      "\n"
     ]
    },
    {
     "data": {
      "image/png": "[encoded data removed]",
      "text/plain": [
       "<Figure size 700x400 with 1 Axes>"
      ]
     },
     "metadata": {},
     "output_type": "display_data"
    }
   ],
   "source": [
    "chains = []\n",
    "Y_pred_chains = []\n",
    "for i in range(20):\n",
    "    base_lr = LogisticRegression(solver='sag', max_iter=10000)\n",
    "    chain = ClassifierChain(base_estimator=base_lr, order=\"random\", random_state=i)\n",
    "    chain.fit(X_train_transformed, y_train)\n",
    "    chains.append(chain)\n",
    "    Y_pred_chain = chain.predict_proba(X_val_transformed)\n",
    "    Y_pred_chains.append(Y_pred_chain)\n",
    "\n",
    "# Calculate Jaccard Similarity Score for each chain\n",
    "chain_jaccard_scores = [jaccard_score(y_val, Y_pred_chain >= 0.3, average=\"samples\", zero_division=0) for Y_pred_chain in Y_pred_chains]\n",
    "    \n",
    "# Calculate Jaccard Similarity Score for ensemble\n",
    "Y_pred_ensemble = np.mean(Y_pred_chains, axis=0)\n",
    "ensemble_jaccard_score = jaccard_score(y_val, Y_pred_ensemble >= 0.3, average=\"samples\", zero_division=0)\n",
    "\n",
    "plot_jaccard_similarities_for_chains(chain_jaccard_scores, ensemble_jaccard_score, y_val, Y_pred_ensemble, \"Classifier Chain Ensemble Performance Comparison (Validation Set)\")"
   ]
  },
  {
   "cell_type": "markdown",
   "metadata": {},
   "source": [
    "As shown on the sklearn documentation, the ClassifierChain Ensemble should perform better than the other chains, however that is not the case here. We note that the threshold for a label to be positive has been reduced from 0.5 to 0.3 since we have almost three quarters of the data without any predicted label, thus the confidence is also low.\n",
    "\n",
    "We see that Chain 7 achiever the best results. Let's compute the metrics for this chain"
   ]
  },
  {
   "cell_type": "code",
   "execution_count": 18,
   "metadata": {},
   "outputs": [
    {
     "name": "stdout",
     "output_type": "stream",
     "text": [
      "Validation Report (Chain 7):\n",
      "               precision    recall  f1-score   support\n",
      "\n",
      "           0       0.42      0.32      0.36        41\n",
      "           1       0.25      0.25      0.25         8\n",
      "           2       0.35      0.19      0.25        47\n",
      "           3       0.52      0.36      0.42        47\n",
      "           4       0.58      0.68      0.63        47\n",
      "           5       0.47      0.47      0.47        96\n",
      "\n",
      "   micro avg       0.47      0.41      0.44       286\n",
      "   macro avg       0.43      0.38      0.40       286\n",
      "weighted avg       0.46      0.41      0.43       286\n",
      " samples avg       0.09      0.10      0.09       286\n",
      "\n"
     ]
    }
   ],
   "source": [
    "valid_report = classification_report(y_val, (Y_pred_chains[6] >= 0.3).astype(int) , zero_division=0)\n",
    "print(\"Validation Report (Chain 7):\\n\", valid_report)"
   ]
  },
  {
   "cell_type": "markdown",
   "metadata": {},
   "source": [
    "## Testing the final model (7th chain)"
   ]
  },
  {
   "cell_type": "code",
   "execution_count": 19,
   "metadata": {},
   "outputs": [
    {
     "name": "stdout",
     "output_type": "stream",
     "text": [
      "Test Report (Chain 7):\n",
      "               precision    recall  f1-score   support\n",
      "\n",
      "           0       0.50      0.43      0.46        14\n",
      "           1       0.50      0.67      0.57         3\n",
      "           2       0.38      0.19      0.25        16\n",
      "           3       0.67      0.38      0.48        16\n",
      "           4       0.71      0.75      0.73        16\n",
      "           5       0.50      0.42      0.46        33\n",
      "\n",
      "   micro avg       0.55      0.44      0.49        98\n",
      "   macro avg       0.54      0.47      0.49        98\n",
      "weighted avg       0.54      0.44      0.48        98\n",
      " samples avg       0.08      0.08      0.08        98\n",
      "\n"
     ]
    }
   ],
   "source": [
    "X_test_transformed = preprocessor.transform(X_test)\n",
    "Y_pred_chain_test = chains[6].predict_proba(X_test_transformed)\n",
    "\n",
    "valid_report = classification_report(y_test, (Y_pred_chain_test >= 0.3).astype(int) , zero_division=0)\n",
    "print(\"Test Report (Chain 7):\\n\", valid_report)"
   ]
  },
  {
   "cell_type": "markdown",
   "metadata": {},
   "source": [
    "## Retraining with Validation set and testing"
   ]
  },
  {
   "cell_type": "code",
   "execution_count": 20,
   "metadata": {},
   "outputs": [],
   "source": [
    "X_trainval_transformed = preprocessor.fit_transform(X_trainval)\n",
    "X_test_transformed = preprocessor.transform(X_test)"
   ]
  },
  {
   "cell_type": "code",
   "execution_count": 21,
   "metadata": {},
   "outputs": [
    {
     "name": "stdout",
     "output_type": "stream",
     "text": [
      "Validation Report (Ensemble):\n",
      "               precision    recall  f1-score   support\n",
      "\n",
      "           0       0.55      0.43      0.48        14\n",
      "           1       1.00      0.67      0.80         3\n",
      "           2       0.38      0.19      0.25        16\n",
      "           3       0.64      0.44      0.52        16\n",
      "           4       0.73      0.69      0.71        16\n",
      "           5       0.54      0.39      0.46        33\n",
      "\n",
      "   micro avg       0.59      0.43      0.50        98\n",
      "   macro avg       0.64      0.47      0.54        98\n",
      "weighted avg       0.58      0.43      0.49        98\n",
      " samples avg       0.07      0.08      0.07        98\n",
      "\n"
     ]
    },
    {
     "data": {
      "image/png": "[encoded data removed]",
      "text/plain": [
       "<Figure size 700x400 with 1 Axes>"
      ]
     },
     "metadata": {},
     "output_type": "display_data"
    }
   ],
   "source": [
    "chains = []\n",
    "Y_pred_chains = []\n",
    "for i in range(20):\n",
    "    base_lr = LogisticRegression(solver='sag', max_iter=10000)\n",
    "    chain = ClassifierChain(base_estimator=base_lr, order=\"random\", random_state=i)\n",
    "    chain.fit(X_trainval_transformed, y_trainval)\n",
    "    chains.append(chain)\n",
    "    Y_pred_chain = chain.predict_proba(X_test_transformed)\n",
    "    Y_pred_chains.append(Y_pred_chain)\n",
    "\n",
    "# Calculate Jaccard Similarity Score for each chain\n",
    "chain_jaccard_scores = [jaccard_score(y_test, Y_pred_chain >= 0.3, average=\"samples\", zero_division=0) for Y_pred_chain in Y_pred_chains]\n",
    "    \n",
    "# Calculate Jaccard Similarity Score for ensemble\n",
    "Y_pred_ensemble = np.mean(Y_pred_chains, axis=0)\n",
    "ensemble_jaccard_score = jaccard_score(y_test, Y_pred_ensemble >= 0.3, average=\"samples\", zero_division=0)\n",
    "\n",
    "plot_jaccard_similarities_for_chains(chain_jaccard_scores, ensemble_jaccard_score, y_test, Y_pred_ensemble, \"Classifier Chain Ensemble Performance Comparison (Test Set)\")"
   ]
  },
  {
   "cell_type": "code",
   "execution_count": 22,
   "metadata": {},
   "outputs": [
    {
     "name": "stdout",
     "output_type": "stream",
     "text": [
      "Test Report (Chain 4):\n",
      "               precision    recall  f1-score   support\n",
      "\n",
      "           0       0.50      0.43      0.46        14\n",
      "           1       0.50      0.67      0.57         3\n",
      "           2       0.38      0.19      0.25        16\n",
      "           3       0.67      0.38      0.48        16\n",
      "           4       0.71      0.75      0.73        16\n",
      "           5       0.50      0.42      0.46        33\n",
      "\n",
      "   micro avg       0.55      0.44      0.49        98\n",
      "   macro avg       0.54      0.47      0.49        98\n",
      "weighted avg       0.54      0.44      0.48        98\n",
      " samples avg       0.08      0.08      0.08        98\n",
      "\n"
     ]
    }
   ],
   "source": [
    "test_report = classification_report(y_test, (Y_pred_chains[3] >= 0.3).astype(int) , zero_division=0)\n",
    "print(\"Test Report (Chain 4):\\n\", valid_report)"
   ]
  },
  {
   "cell_type": "markdown",
   "metadata": {},
   "source": [
    "## Trying RethinkNet"
   ]
  },
  {
   "cell_type": "code",
   "execution_count": 64,
   "metadata": {},
   "outputs": [],
   "source": [
    "import tensorflow as tf\n",
    "\n",
    "# F1 Score Calculation Function\n",
    "def f1_score(y_true, y_pred):\n",
    "    # Calculate the L1 norm which is the count of 1's in binary labels\n",
    "    y_true_sum = tf.reduce_sum(y_true)\n",
    "    y_pred_sum = tf.reduce_sum(y_pred)\n",
    "\n",
    "    # Intersection of y and y_hat\n",
    "    intersection = tf.reduce_sum(y_true * y_pred)\n",
    "\n",
    "    # F1 score for each label\n",
    "    f1 = 2 * intersection / (y_true_sum + y_pred_sum + tf.keras.backend.epsilon())\n",
    "    return f1\n",
    "\n",
    "# Weight Computation Function\n",
    "@tf.function\n",
    "def compute_weights(y_true, y_pred, t):\n",
    "    num_labels = y_pred.shape[-1]\n",
    "    batch_size = tf.shape(y_pred)[0]\n",
    "\n",
    "    if t > 1:\n",
    "        weights = tf.TensorArray(dtype=tf.float32, size=batch_size)\n",
    "\n",
    "        for i in tf.range(batch_size):\n",
    "            sample_weights = tf.TensorArray(dtype=tf.float32, size=num_labels)\n",
    "            \n",
    "            for j in tf.range(num_labels):\n",
    "                # Prepare y_pred with the j-th label set to 0 and 1\n",
    "                y_pred_0 = tf.concat([y_pred[i, :j], [0], y_pred[i, j+1:]], axis=0)\n",
    "                y_pred_1 = tf.concat([y_pred[i, :j], [1], y_pred[i, j+1:]], axis=0)\n",
    "\n",
    "                # Add new axis for batch compatibility\n",
    "                y_pred_0 = y_pred_0[tf.newaxis, :]\n",
    "                y_pred_1 = y_pred_1[tf.newaxis, :]\n",
    "\n",
    "                # Compute F1 scores for each case\n",
    "                f1_0 = f1_score(y_true[i:i+1, :], y_pred_0)\n",
    "                f1_1 = f1_score(y_true[i:i+1, :], y_pred_1)\n",
    "\n",
    "                # Compute the weight for this label\n",
    "                weight = tf.abs(f1_0 - f1_1)\n",
    "                sample_weights = sample_weights.write(j, weight)\n",
    "\n",
    "            # Stack the weights for all labels for this sample\n",
    "            weights = weights.write(i, sample_weights.stack())\n",
    "\n",
    "        # Stack the weights for all samples\n",
    "        weights = weights.stack()\n",
    "    else:\n",
    "        weights = tf.ones((batch_size, num_labels))\n",
    "\n",
    "    return weights\n",
    "\n",
    "# Custom Loss Function\n",
    "class WeightedBinaryCrossEntropy(tf.keras.losses.Loss):\n",
    "    def __init__(self):\n",
    "        super().__init__()\n",
    "        self.weights = None\n",
    "\n",
    "    def set_weights(self, weights):\n",
    "        self.weights = weights\n",
    "\n",
    "    def call(self, y_true, y_pred):\n",
    "        if self.weights is None:\n",
    "            raise ValueError(\"Weights not set for WeightedBinaryCrossEntropy\")\n",
    "        \n",
    "        bce = tf.keras.backend.binary_crossentropy(y_true, y_pred)\n",
    "        weighted_bce = self.weights * bce\n",
    "        return tf.reduce_mean(tf.reduce_sum(weighted_bce, axis=-1))\n",
    "\n",
    "# RNN Layer\n",
    "@tf.keras.utils.register_keras_serializable()\n",
    "class RethinkNetRNN(tf.keras.layers.Layer):\n",
    "    def __init__(self, units, B):\n",
    "        super(RethinkNetRNN, self).__init__()\n",
    "        self.units = units\n",
    "        self.B = B\n",
    "        self.U = tf.keras.layers.Dense(units, activation=None)  # Linear transformation\n",
    "        self.W = tf.keras.layers.Dense(units, activation=None)  # Linear transformation\n",
    "\n",
    "    def call(self, x):\n",
    "        o_prev = tf.zeros_like(x)\n",
    "        for i in range(self.B):\n",
    "            if i == 0:\n",
    "                o = tf.nn.sigmoid(self.U(x))\n",
    "            else:\n",
    "                o = tf.nn.sigmoid(self.U(x) + self.W(o_prev))\n",
    "            o_prev = o\n",
    "        return o\n",
    "    \n",
    "    def get_config(self):\n",
    "        config = super(RethinkNetRNN, self).get_config()\n",
    "        config.update({\n",
    "            'units': self.units,\n",
    "            'B': self.B\n",
    "        })\n",
    "        return config\n",
    "\n",
    "    @classmethod\n",
    "    def from_config(cls, config):\n",
    "        return cls(**config)\n",
    "\n",
    "# RethinkNet Model\n",
    "@tf.keras.utils.register_keras_serializable()\n",
    "class RethinkNet(tf.keras.Model):\n",
    "    def __init__(self, feature_dim, label_dim, B):\n",
    "        super(RethinkNet, self).__init__()\n",
    "        self.rnn = RethinkNetRNN(feature_dim, B)\n",
    "        self.dense = tf.keras.layers.Dense(label_dim, activation='sigmoid')\n",
    "        self.feature_dim = feature_dim\n",
    "        self.B = B\n",
    "        self.label_dim = label_dim\n",
    "\n",
    "    def call(self, inputs):\n",
    "        rnn_output = self.rnn(inputs)\n",
    "        return self.dense(rnn_output)\n",
    "    \n",
    "    def call(self, inputs):\n",
    "        rnn_output = self.rnn(inputs)\n",
    "        return self.dense(rnn_output)\n",
    "\n",
    "    def get_config(self):\n",
    "        config = super(RethinkNet, self).get_config()\n",
    "        config.update({\n",
    "            'feature_dim': self.feature_dim,\n",
    "            'label_dim': self.label_dim,\n",
    "            'B': self.B\n",
    "        })\n",
    "        return config\n",
    "\n",
    "    @classmethod\n",
    "    def from_config(cls, config):\n",
    "        return cls(**config)\n",
    "\n",
    "def train_model(model, X_train, Y_train, patience, epochs=10, batch_size=32, learning_rate=0.01):\n",
    "\n",
    "    loss_fn = WeightedBinaryCrossEntropy()\n",
    "    optimizer = tf.keras.optimizers.Adam(learning_rate=learning_rate)\n",
    "\n",
    "    # Convert to TensorFlow tensors\n",
    "    X_train_tf = tf.convert_to_tensor(X_train, dtype=tf.float32)\n",
    "    Y_train_tf = tf.convert_to_tensor(Y_train, dtype=tf.float32)\n",
    "\n",
    "    best_loss = float('inf')\n",
    "    epochs_without_improvement = 0\n",
    "    loss_history = []\n",
    "\n",
    "    for epoch in range(epochs):\n",
    "        indices = tf.range(start=0, limit=tf.shape(X_train_tf)[0], dtype=tf.int32)\n",
    "        shuffled_indices = tf.random.shuffle(indices)\n",
    "\n",
    "        X_train_shuffled = tf.gather(X_train_tf, shuffled_indices)\n",
    "        Y_train_shuffled = tf.gather(Y_train_tf, shuffled_indices)\n",
    "\n",
    "        for i in range(0, len(X_train_tf), batch_size):\n",
    "            x_batch_train = X_train_shuffled[i:i+batch_size]\n",
    "            y_batch_train = Y_train_shuffled[i:i+batch_size]\n",
    "\n",
    "            with tf.GradientTape() as tape:\n",
    "                logits = model(x_batch_train, training=True)\n",
    "                weights = compute_weights(y_batch_train, logits, epoch + 1)\n",
    "                loss_fn.set_weights(weights)\n",
    "                loss_value = loss_fn(y_batch_train, logits)\n",
    "\n",
    "            grads = tape.gradient(loss_value, model.trainable_weights)\n",
    "            optimizer.apply_gradients(zip(grads, model.trainable_weights))\n",
    "\n",
    "        loss_history.append(loss_value.numpy())\n",
    "        # Check for loss improvement\n",
    "        if loss_value < best_loss:\n",
    "            best_loss = loss_value\n",
    "            epochs_without_improvement = 0\n",
    "            # Save the model\n",
    "            model.save('nn_model.keras')\n",
    "            print(f\"Epoch {epoch + 1}/{epochs}, Loss: {loss_value.numpy()} - saving model\")\n",
    "        elif patience:\n",
    "            epochs_without_improvement += 1\n",
    "            print(f\"Epoch {epoch + 1}/{epochs}, Loss: {loss_value.numpy()}\")\n",
    "            print(f\"Model not improved. Reducing patience to {patience-epochs_without_improvement}\")\n",
    "            if epochs_without_improvement >= patience:\n",
    "                print(\"Stopping early due to no improvement in loss.\")\n",
    "                break\n",
    "        else:\n",
    "            print(f\"Epoch {epoch + 1}/{epochs}, Loss: {loss_value.numpy()}\")\n",
    "\n",
    "    return loss_history\n",
    "\n",
    "       #print(f\"Epoch {epoch + 1}/{epochs}, Loss: {loss_value.numpy()}\")\n"
   ]
  },
  {
   "cell_type": "code",
   "execution_count": 109,
   "metadata": {},
   "outputs": [
    {
     "name": "stdout",
     "output_type": "stream",
     "text": [
      "Epoch 1/20, Loss: 2.7238476276397705 - saving model\n",
      "Epoch 2/20, Loss: 0.06983565539121628 - saving model\n",
      "Epoch 3/20, Loss: 0.20214048027992249\n",
      "Epoch 4/20, Loss: 0.3328936696052551\n",
      "Epoch 5/20, Loss: 0.07793571799993515\n",
      "Epoch 6/20, Loss: 0.16689476370811462\n",
      "Epoch 7/20, Loss: 0.15831336379051208\n",
      "Epoch 8/20, Loss: 0.06663598120212555 - saving model\n",
      "Epoch 9/20, Loss: 0.13883033394813538\n",
      "Epoch 10/20, Loss: 0.09514356404542923\n",
      "Epoch 11/20, Loss: 0.0 - saving model\n",
      "Epoch 12/20, Loss: 0.19114238023757935\n",
      "Epoch 13/20, Loss: 0.11864861845970154\n",
      "Epoch 14/20, Loss: 0.04877306893467903\n",
      "Epoch 15/20, Loss: 0.0534009113907814\n",
      "Epoch 16/20, Loss: 0.0\n",
      "Epoch 17/20, Loss: 0.0616304986178875\n",
      "Epoch 18/20, Loss: 0.3535468280315399\n",
      "Epoch 19/20, Loss: 0.0\n",
      "Epoch 20/20, Loss: 0.2790513336658478\n"
     ]
    }
   ],
   "source": [
    "feature_dim = X_train_transformed.shape[1]  # Adjust as per your feature vector size\n",
    "label_dim = y_train.shape[1]    # Adjust as per your label vector size\n",
    "B = 6\n",
    "lr = 0.001   \n",
    "\n",
    "model = RethinkNet(feature_dim, label_dim, B)\n",
    "\n",
    "# Compile the model\n",
    "model.compile(optimizer='adam')\n",
    "\n",
    "# Training loop\n",
    "epochs = 20  # Set the number of epochs\n",
    "batch_size = 32  # Set the batch size\n",
    "\n",
    "loss_history = train_model(model, X_train_transformed, y_train.values, epochs=epochs, batch_size=32, patience=False, learning_rate=lr)"
   ]
  },
  {
   "cell_type": "code",
   "execution_count": 110,
   "metadata": {},
   "outputs": [
    {
     "data": {
      "image/png": "[encoded data removed]",
      "text/plain": [
       "<Figure size 640x480 with 1 Axes>"
      ]
     },
     "metadata": {},
     "output_type": "display_data"
    }
   ],
   "source": [
    "plt.plot(loss_history)\n",
    "plt.title(f'Model Loss per Epoch (B={B} Epochs={epochs} Learning Rate={lr})')\n",
    "plt.ylabel('Loss')\n",
    "plt.xlabel('Epoch')\n",
    "plt.xticks(range(len(loss_history)))\n",
    "plt.show()"
   ]
  },
  {
   "cell_type": "markdown",
   "metadata": {},
   "source": [
    "We first try with the latest model. We have to adjust the threshold manually depending on the confidence of the model"
   ]
  },
  {
   "cell_type": "code",
   "execution_count": 111,
   "metadata": {},
   "outputs": [
    {
     "name": "stdout",
     "output_type": "stream",
     "text": [
      "20/20 [==============================] - 1s 2ms/step\n"
     ]
    },
    {
     "data": {
      "text/plain": [
       "array([[0.66891575, 0.35641608, 0.61180645, 0.6790068 , 0.69933206,\n",
       "        0.71020234],\n",
       "       [0.69876474, 0.3895672 , 0.59871423, 0.64800125, 0.68991053,\n",
       "        0.76322764],\n",
       "       [0.5060894 , 0.24168558, 0.64824617, 0.58500767, 0.5160566 ,\n",
       "        0.8020272 ],\n",
       "       ...,\n",
       "       [0.42135087, 0.24908559, 0.66803086, 0.520375  , 0.47710556,\n",
       "        0.7606552 ],\n",
       "       [0.4034807 , 0.27662992, 0.7094969 , 0.5070657 , 0.4536666 ,\n",
       "        0.74882615],\n",
       "       [0.5579215 , 0.28435072, 0.7004098 , 0.65867037, 0.45430088,\n",
       "        0.680155  ]], dtype=float32)"
      ]
     },
     "execution_count": 111,
     "metadata": {},
     "output_type": "execute_result"
    }
   ],
   "source": [
    "predictions = model.predict(X_val_transformed)\n",
    "predictions"
   ]
  },
  {
   "cell_type": "code",
   "execution_count": 115,
   "metadata": {},
   "outputs": [
    {
     "name": "stdout",
     "output_type": "stream",
     "text": [
      "Validation Report (RNN B=6, Epochs=20, LR=0.001):\n",
      "               precision    recall  f1-score   support\n",
      "\n",
      "           0       0.27      0.41      0.33        41\n",
      "           1       0.00      0.00      0.00         8\n",
      "           2       0.11      0.30      0.16        47\n",
      "           3       0.26      0.26      0.26        47\n",
      "           4       0.26      0.47      0.34        47\n",
      "           5       0.18      0.96      0.30        96\n",
      "\n",
      "   micro avg       0.19      0.55      0.28       286\n",
      "   macro avg       0.18      0.40      0.23       286\n",
      "weighted avg       0.20      0.55      0.27       286\n",
      " samples avg       0.15      0.16      0.14       286\n",
      "\n"
     ]
    }
   ],
   "source": [
    "rethink_report = classification_report(y_val, (predictions >= 0.7).astype(int) , zero_division=0)\n",
    "print(f\"Validation Report (RNN B={B}, Epochs={epochs}, LR={lr}):\\n\", rethink_report)"
   ]
  },
  {
   "cell_type": "code",
   "execution_count": 87,
   "metadata": {},
   "outputs": [
    {
     "name": "stderr",
     "output_type": "stream",
     "text": [
      "WARNING:absl:Skipping variable loading for optimizer 'Adam', because it has 13 variables whereas the saved optimizer has 1 variables. \n"
     ]
    },
    {
     "name": "stdout",
     "output_type": "stream",
     "text": [
      "20/20 [==============================] - 0s 2ms/step\n"
     ]
    },
    {
     "data": {
      "text/plain": [
       "array([[0.7181757 , 0.4066474 , 0.5412255 , 0.6921861 , 0.73537356,\n",
       "        0.7947483 ],\n",
       "       [0.7482622 , 0.40764448, 0.50322366, 0.69049925, 0.77722585,\n",
       "        0.7932675 ],\n",
       "       [0.44675273, 0.07940933, 0.6102197 , 0.7194833 , 0.17248814,\n",
       "        0.81487024],\n",
       "       ...,\n",
       "       [0.29992393, 0.03753401, 0.7082117 , 0.4688483 , 0.08225983,\n",
       "        0.8350779 ],\n",
       "       [0.20674002, 0.03989379, 0.7402084 , 0.27968308, 0.06524327,\n",
       "        0.79668707],\n",
       "       [0.51298434, 0.18132961, 0.5448334 , 0.7719974 , 0.34769318,\n",
       "        0.7986154 ]], dtype=float32)"
      ]
     },
     "execution_count": 87,
     "metadata": {},
     "output_type": "execute_result"
    }
   ],
   "source": [
    "loaded_model = tf.keras.models.load_model('nn_model.keras', custom_objects={'RethinkNetRNN': RethinkNetRNN})\n",
    "loaded_preds = loaded_model.predict(X_val_transformed)\n",
    "loaded_preds"
   ]
  },
  {
   "cell_type": "code",
   "execution_count": 92,
   "metadata": {},
   "outputs": [
    {
     "name": "stdout",
     "output_type": "stream",
     "text": [
      "Validation Report Best Loss (RNN B=15, Epochs=20, LR=0.01):\n",
      "               precision    recall  f1-score   support\n",
      "\n",
      "           0       0.21      0.73      0.32        41\n",
      "           1       0.00      0.00      0.00         8\n",
      "           2       0.11      0.47      0.18        47\n",
      "           3       0.19      0.47      0.27        47\n",
      "           4       0.29      0.87      0.43        47\n",
      "           5       0.16      1.00      0.27        96\n",
      "\n",
      "   micro avg       0.18      0.74      0.28       286\n",
      "   macro avg       0.16      0.59      0.25       286\n",
      "weighted avg       0.18      0.74      0.28       286\n",
      " samples avg       0.15      0.21      0.16       286\n",
      "\n"
     ]
    }
   ],
   "source": [
    "rethink_best_report = classification_report(y_val, (loaded_preds >= 0.7).astype(int) , zero_division=0)\n",
    "print(f\"Validation Report Best Loss (RNN B={B}, Epochs={epochs}, LR={0.01}):\\n\", rethink_best_report)"
   ]
  },
  {
   "cell_type": "code",
   "execution_count": null,
   "metadata": {},
   "outputs": [],
   "source": []
  }
 ],
 "metadata": {
  "kernelspec": {
   "display_name": "Python 3",
   "language": "python",
   "name": "python3"
  },
  "language_info": {
   "codemirror_mode": {
    "name": "ipython",
    "version": 3
   },
   "file_extension": ".py",
   "mimetype": "text/x-python",
   "name": "python",
   "nbconvert_exporter": "python",
   "pygments_lexer": "ipython3",
   "version": "3.10.11"
  }
 },
 "nbformat": 4,
 "nbformat_minor": 2
}
