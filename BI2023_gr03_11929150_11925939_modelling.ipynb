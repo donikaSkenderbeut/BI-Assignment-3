{
 "cells": [
  {
   "cell_type": "code",
   "execution_count": 1,
   "metadata": {},
   "outputs": [],
   "source": [
    "import pandas as pd\n",
    "import numpy as np\n",
    "import matplotlib.pyplot as plt\n",
    "from datetime import datetime, timedelta\n",
    "import seaborn as sns\n",
    "from itertools import chain\n",
    "from sklearn.model_selection import GridSearchCV, cross_val_score, train_test_split\n",
    "from sklearn.ensemble import RandomForestClassifier\n",
    "from sklearn.metrics import classification_report, jaccard_score\n",
    "from sklearn.preprocessing import OneHotEncoder, StandardScaler\n",
    "from sklearn.compose import ColumnTransformer\n",
    "from sklearn.pipeline import Pipeline\n",
    "from skmultilearn.model_selection import iterative_train_test_split\n",
    "from sklearn.linear_model import LogisticRegression, RidgeClassifier\n",
    "from sklearn.multioutput import ClassifierChain\n",
    "from collections import Counter"
   ]
  },
  {
   "cell_type": "code",
   "execution_count": 2,
   "metadata": {},
   "outputs": [
    {
     "name": "stdout",
     "output_type": "stream",
     "text": [
      "<class 'pandas.core.frame.DataFrame'>\n",
      "RangeIndex: 2211 entries, 0 to 2210\n",
      "Data columns (total 39 columns):\n",
      " #   Column                Non-Null Count  Dtype  \n",
      "---  ------                --------------  -----  \n",
      " 0   ID                    2211 non-null   int64  \n",
      " 1   Year_Birth            2211 non-null   int64  \n",
      " 2   Education             2211 non-null   object \n",
      " 3   Marital_Status        2211 non-null   object \n",
      " 4   Income                2211 non-null   float64\n",
      " 5   Kidhome               2211 non-null   int64  \n",
      " 6   Teenhome              2211 non-null   int64  \n",
      " 7   Dt_Customer           2211 non-null   object \n",
      " 8   Recency               2211 non-null   int64  \n",
      " 9   MntWines              2211 non-null   int64  \n",
      " 10  MntFruits             2211 non-null   int64  \n",
      " 11  MntMeatProducts       2211 non-null   int64  \n",
      " 12  MntFishProducts       2211 non-null   int64  \n",
      " 13  MntSweetProducts      2211 non-null   int64  \n",
      " 14  MntGoldProds          2211 non-null   int64  \n",
      " 15  NumDealsPurchases     2211 non-null   int64  \n",
      " 16  NumWebPurchases       2211 non-null   int64  \n",
      " 17  NumCatalogPurchases   2211 non-null   int64  \n",
      " 18  NumStorePurchases     2211 non-null   int64  \n",
      " 19  NumWebVisitsMonth     2211 non-null   int64  \n",
      " 20  AcceptedCmp3          2211 non-null   int64  \n",
      " 21  AcceptedCmp4          2211 non-null   int64  \n",
      " 22  AcceptedCmp5          2211 non-null   int64  \n",
      " 23  AcceptedCmp1          2211 non-null   int64  \n",
      " 24  AcceptedCmp2          2211 non-null   int64  \n",
      " 25  Complain              2211 non-null   int64  \n",
      " 26  Z_CostContact         2211 non-null   int64  \n",
      " 27  Z_Revenue             2211 non-null   int64  \n",
      " 28  AcceptedCmp6          2211 non-null   int64  \n",
      " 29  AcceptedCampaigns     2211 non-null   object \n",
      " 30  Age                   2211 non-null   int64  \n",
      " 31  Customer_Since_Days   2211 non-null   int64  \n",
      " 32  AgeGroup              2211 non-null   object \n",
      " 33  TotalSpending         2211 non-null   int64  \n",
      " 34  CLV                   2211 non-null   int64  \n",
      " 35  FamilySize            2211 non-null   int64  \n",
      " 36  IncomeBracket         2211 non-null   object \n",
      " 37  RecencyCategory       2211 non-null   object \n",
      " 38  NumAcceptedCampaigns  2211 non-null   int64  \n",
      "dtypes: float64(1), int64(31), object(7)\n",
      "memory usage: 673.8+ KB\n"
     ]
    }
   ],
   "source": [
    "df = pd.read_csv('./data/marketing_campaign_engineered.csv')\n",
    "df.info()"
   ]
  },
  {
   "cell_type": "code",
   "execution_count": 3,
   "metadata": {},
   "outputs": [],
   "source": [
    "features = ['Education', 'Marital_Status', 'Income', 'Kidhome', 'Teenhome', \n",
    "            'Recency', 'MntWines', 'MntFruits', 'MntMeatProducts', 'MntFishProducts', \n",
    "            'MntSweetProducts', 'MntGoldProds', 'NumDealsPurchases', 'NumWebPurchases', \n",
    "            'NumCatalogPurchases', 'NumStorePurchases', 'NumWebVisitsMonth']\n",
    "categorical_features = ['Education', 'Marital_Status']\n",
    "numerical_features = [feature for feature in features if feature not in categorical_features]\n",
    "labels = ['AcceptedCmp1', 'AcceptedCmp2', 'AcceptedCmp3', 'AcceptedCmp4', \n",
    "          'AcceptedCmp5', 'AcceptedCmp6']"
   ]
  },
  {
   "cell_type": "code",
   "execution_count": 4,
   "metadata": {},
   "outputs": [
    {
     "data": {
      "text/plain": [
       "((1606, 39), (236, 39))"
      ]
     },
     "execution_count": 4,
     "metadata": {},
     "output_type": "execute_result"
    }
   ],
   "source": [
    "df[df['NumAcceptedCampaigns'] == 0].shape, df[df['NumAcceptedCampaigns'] >= 2].shape"
   ]
  },
  {
   "cell_type": "markdown",
   "metadata": {},
   "source": [
    "The following problem arises with our data. We have more than 72% of the data that hasn't accepted any of the campaigns and only 236 that have accepted two or more. There is a huge class imbalance and furthermore even between the labels we have imbalances. \n",
    "\n",
    "Stratifying the splits is a task not supported by the generic `train_test_split` method, thus we need to employ more robust methods like `iterative_train_test_split`. Cross Validation is also problematic since having stratified folds for a multiclass problem is still an unsolved problem and there are no robust algorithms to provide a solution (_Sechidis et al._)\n",
    "\n",
    "Thus we will try first performing a stratified split but skipping the Cross Validation and trying to fix the hyperparameters \"by hand\". Next we will also forego stratification in order to try CrossValidation."
   ]
  },
  {
   "cell_type": "markdown",
   "metadata": {},
   "source": [
    "## Stratification No CV\n",
    "\n",
    "Another thing to consider is that depending on the test size, not all classes will be contained on the test/validation set, so we have to consider either having a smaller train size but having all cases included in all splits or not"
   ]
  },
  {
   "cell_type": "code",
   "execution_count": 5,
   "metadata": {},
   "outputs": [],
   "source": [
    "def prepare_iterative_ts(X, y, features, labels, test_size):\n",
    "    X_train, y_train, X_test, y_test = iterative_train_test_split(X.values, y.values, test_size = test_size)\n",
    "\n",
    "    X_train = pd.DataFrame(X_train, columns=features)\n",
    "    X_test = pd.DataFrame(X_test, columns=features)\n",
    "    y_train = pd.DataFrame(y_train, columns=labels)\n",
    "    y_test = pd.DataFrame(y_test, columns=labels)\n",
    "\n",
    "    return X_train, X_test, y_train, y_test"
   ]
  },
  {
   "cell_type": "code",
   "execution_count": 6,
   "metadata": {},
   "outputs": [],
   "source": [
    "X_trainval, X_test, y_trainval, y_test = prepare_iterative_ts(df[features], df[labels], features, labels, test_size=0.1)\n",
    "X_train, X_val, y_train, y_val = prepare_iterative_ts(X_trainval, y_trainval, features, labels, test_size=0.32)"
   ]
  },
  {
   "cell_type": "markdown",
   "metadata": {},
   "source": [
    "### RidgeClassifier\n",
    "\n",
    "Ridge Classifier inherently supports multilabel tasks, we will just standardize the data and one hot encode the categorical variables."
   ]
  },
  {
   "cell_type": "code",
   "execution_count": 7,
   "metadata": {},
   "outputs": [],
   "source": [
    "preprocessor = ColumnTransformer(\n",
    "    transformers=[\n",
    "        ('num', StandardScaler(), numerical_features),\n",
    "        ('cat', OneHotEncoder(categories=[['Graduation', 'PhD', 'Master', 'Basic'], \n",
    "                                          ['Single', 'Together', 'Married', 'Divorced', \n",
    "                                           'Widow', 'Others']]), categorical_features)\n",
    "    ])"
   ]
  },
  {
   "cell_type": "code",
   "execution_count": 8,
   "metadata": {},
   "outputs": [],
   "source": [
    "X_train_transformed = preprocessor.fit_transform(X_train)\n",
    "X_val_transformed = preprocessor.transform(X_val)"
   ]
  },
  {
   "cell_type": "code",
   "execution_count": 9,
   "metadata": {},
   "outputs": [
    {
     "data": {
      "text/html": [
       "<style>#sk-container-id-1 {\n",
       "  /* Definition of color scheme common for light and dark mode */\n",
       "  --sklearn-color-text: black;\n",
       "  --sklearn-color-line: gray;\n",
       "  /* Definition of color scheme for unfitted estimators */\n",
       "  --sklearn-color-unfitted-level-0: #fff5e6;\n",
       "  --sklearn-color-unfitted-level-1: #f6e4d2;\n",
       "  --sklearn-color-unfitted-level-2: #ffe0b3;\n",
       "  --sklearn-color-unfitted-level-3: chocolate;\n",
       "  /* Definition of color scheme for fitted estimators */\n",
       "  --sklearn-color-fitted-level-0: #f0f8ff;\n",
       "  --sklearn-color-fitted-level-1: #d4ebff;\n",
       "  --sklearn-color-fitted-level-2: #b3dbfd;\n",
       "  --sklearn-color-fitted-level-3: cornflowerblue;\n",
       "\n",
       "  /* Specific color for light theme */\n",
       "  --sklearn-color-text-on-default-background: var(--sg-text-color, var(--theme-code-foreground, var(--jp-content-font-color1, black)));\n",
       "  --sklearn-color-background: var(--sg-background-color, var(--theme-background, var(--jp-layout-color0, white)));\n",
       "  --sklearn-color-border-box: var(--sg-text-color, var(--theme-code-foreground, var(--jp-content-font-color1, black)));\n",
       "  --sklearn-color-icon: #696969;\n",
       "\n",
       "  @media (prefers-color-scheme: dark) {\n",
       "    /* Redefinition of color scheme for dark theme */\n",
       "    --sklearn-color-text-on-default-background: var(--sg-text-color, var(--theme-code-foreground, var(--jp-content-font-color1, white)));\n",
       "    --sklearn-color-background: var(--sg-background-color, var(--theme-background, var(--jp-layout-color0, #111)));\n",
       "    --sklearn-color-border-box: var(--sg-text-color, var(--theme-code-foreground, var(--jp-content-font-color1, white)));\n",
       "    --sklearn-color-icon: #878787;\n",
       "  }\n",
       "}\n",
       "\n",
       "#sk-container-id-1 {\n",
       "  color: var(--sklearn-color-text);\n",
       "}\n",
       "\n",
       "#sk-container-id-1 pre {\n",
       "  padding: 0;\n",
       "}\n",
       "\n",
       "#sk-container-id-1 input.sk-hidden--visually {\n",
       "  border: 0;\n",
       "  clip: rect(1px 1px 1px 1px);\n",
       "  clip: rect(1px, 1px, 1px, 1px);\n",
       "  height: 1px;\n",
       "  margin: -1px;\n",
       "  overflow: hidden;\n",
       "  padding: 0;\n",
       "  position: absolute;\n",
       "  width: 1px;\n",
       "}\n",
       "\n",
       "#sk-container-id-1 div.sk-dashed-wrapped {\n",
       "  border: 1px dashed var(--sklearn-color-line);\n",
       "  margin: 0 0.4em 0.5em 0.4em;\n",
       "  box-sizing: border-box;\n",
       "  padding-bottom: 0.4em;\n",
       "  background-color: var(--sklearn-color-background);\n",
       "}\n",
       "\n",
       "#sk-container-id-1 div.sk-container {\n",
       "  /* jupyter's `normalize.less` sets `[hidden] { display: none; }`\n",
       "     but bootstrap.min.css set `[hidden] { display: none !important; }`\n",
       "     so we also need the `!important` here to be able to override the\n",
       "     default hidden behavior on the sphinx rendered scikit-learn.org.\n",
       "     See: https://github.com/scikit-learn/scikit-learn/issues/21755 */\n",
       "  display: inline-block !important;\n",
       "  position: relative;\n",
       "}\n",
       "\n",
       "#sk-container-id-1 div.sk-text-repr-fallback {\n",
       "  display: none;\n",
       "}\n",
       "\n",
       "div.sk-parallel-item,\n",
       "div.sk-serial,\n",
       "div.sk-item {\n",
       "  /* draw centered vertical line to link estimators */\n",
       "  background-image: linear-gradient(var(--sklearn-color-text-on-default-background), var(--sklearn-color-text-on-default-background));\n",
       "  background-size: 2px 100%;\n",
       "  background-repeat: no-repeat;\n",
       "  background-position: center center;\n",
       "}\n",
       "\n",
       "/* Parallel-specific style estimator block */\n",
       "\n",
       "#sk-container-id-1 div.sk-parallel-item::after {\n",
       "  content: \"\";\n",
       "  width: 100%;\n",
       "  border-bottom: 2px solid var(--sklearn-color-text-on-default-background);\n",
       "  flex-grow: 1;\n",
       "}\n",
       "\n",
       "#sk-container-id-1 div.sk-parallel {\n",
       "  display: flex;\n",
       "  align-items: stretch;\n",
       "  justify-content: center;\n",
       "  background-color: var(--sklearn-color-background);\n",
       "  position: relative;\n",
       "}\n",
       "\n",
       "#sk-container-id-1 div.sk-parallel-item {\n",
       "  display: flex;\n",
       "  flex-direction: column;\n",
       "}\n",
       "\n",
       "#sk-container-id-1 div.sk-parallel-item:first-child::after {\n",
       "  align-self: flex-end;\n",
       "  width: 50%;\n",
       "}\n",
       "\n",
       "#sk-container-id-1 div.sk-parallel-item:last-child::after {\n",
       "  align-self: flex-start;\n",
       "  width: 50%;\n",
       "}\n",
       "\n",
       "#sk-container-id-1 div.sk-parallel-item:only-child::after {\n",
       "  width: 0;\n",
       "}\n",
       "\n",
       "/* Serial-specific style estimator block */\n",
       "\n",
       "#sk-container-id-1 div.sk-serial {\n",
       "  display: flex;\n",
       "  flex-direction: column;\n",
       "  align-items: center;\n",
       "  background-color: var(--sklearn-color-background);\n",
       "  padding-right: 1em;\n",
       "  padding-left: 1em;\n",
       "}\n",
       "\n",
       "\n",
       "/* Toggleable style: style used for estimator/Pipeline/ColumnTransformer box that is\n",
       "clickable and can be expanded/collapsed.\n",
       "- Pipeline and ColumnTransformer use this feature and define the default style\n",
       "- Estimators will overwrite some part of the style using the `sk-estimator` class\n",
       "*/\n",
       "\n",
       "/* Pipeline and ColumnTransformer style (default) */\n",
       "\n",
       "#sk-container-id-1 div.sk-toggleable {\n",
       "  /* Default theme specific background. It is overwritten whether we have a\n",
       "  specific estimator or a Pipeline/ColumnTransformer */\n",
       "  background-color: var(--sklearn-color-background);\n",
       "}\n",
       "\n",
       "/* Toggleable label */\n",
       "#sk-container-id-1 label.sk-toggleable__label {\n",
       "  cursor: pointer;\n",
       "  display: block;\n",
       "  width: 100%;\n",
       "  margin-bottom: 0;\n",
       "  padding: 0.5em;\n",
       "  box-sizing: border-box;\n",
       "  text-align: center;\n",
       "}\n",
       "\n",
       "#sk-container-id-1 label.sk-toggleable__label-arrow:before {\n",
       "  /* Arrow on the left of the label */\n",
       "  content: \"▸\";\n",
       "  float: left;\n",
       "  margin-right: 0.25em;\n",
       "  color: var(--sklearn-color-icon);\n",
       "}\n",
       "\n",
       "#sk-container-id-1 label.sk-toggleable__label-arrow:hover:before {\n",
       "  color: var(--sklearn-color-text);\n",
       "}\n",
       "\n",
       "/* Toggleable content - dropdown */\n",
       "\n",
       "#sk-container-id-1 div.sk-toggleable__content {\n",
       "  max-height: 0;\n",
       "  max-width: 0;\n",
       "  overflow: hidden;\n",
       "  text-align: left;\n",
       "  /* unfitted */\n",
       "  background-color: var(--sklearn-color-unfitted-level-0);\n",
       "}\n",
       "\n",
       "#sk-container-id-1 div.sk-toggleable__content.fitted {\n",
       "  /* fitted */\n",
       "  background-color: var(--sklearn-color-fitted-level-0);\n",
       "}\n",
       "\n",
       "#sk-container-id-1 div.sk-toggleable__content pre {\n",
       "  margin: 0.2em;\n",
       "  border-radius: 0.25em;\n",
       "  color: var(--sklearn-color-text);\n",
       "  /* unfitted */\n",
       "  background-color: var(--sklearn-color-unfitted-level-0);\n",
       "}\n",
       "\n",
       "#sk-container-id-1 div.sk-toggleable__content.fitted pre {\n",
       "  /* unfitted */\n",
       "  background-color: var(--sklearn-color-fitted-level-0);\n",
       "}\n",
       "\n",
       "#sk-container-id-1 input.sk-toggleable__control:checked~div.sk-toggleable__content {\n",
       "  /* Expand drop-down */\n",
       "  max-height: 200px;\n",
       "  max-width: 100%;\n",
       "  overflow: auto;\n",
       "}\n",
       "\n",
       "#sk-container-id-1 input.sk-toggleable__control:checked~label.sk-toggleable__label-arrow:before {\n",
       "  content: \"▾\";\n",
       "}\n",
       "\n",
       "/* Pipeline/ColumnTransformer-specific style */\n",
       "\n",
       "#sk-container-id-1 div.sk-label input.sk-toggleable__control:checked~label.sk-toggleable__label {\n",
       "  color: var(--sklearn-color-text);\n",
       "  background-color: var(--sklearn-color-unfitted-level-2);\n",
       "}\n",
       "\n",
       "#sk-container-id-1 div.sk-label.fitted input.sk-toggleable__control:checked~label.sk-toggleable__label {\n",
       "  background-color: var(--sklearn-color-fitted-level-2);\n",
       "}\n",
       "\n",
       "/* Estimator-specific style */\n",
       "\n",
       "/* Colorize estimator box */\n",
       "#sk-container-id-1 div.sk-estimator input.sk-toggleable__control:checked~label.sk-toggleable__label {\n",
       "  /* unfitted */\n",
       "  background-color: var(--sklearn-color-unfitted-level-2);\n",
       "}\n",
       "\n",
       "#sk-container-id-1 div.sk-estimator.fitted input.sk-toggleable__control:checked~label.sk-toggleable__label {\n",
       "  /* fitted */\n",
       "  background-color: var(--sklearn-color-fitted-level-2);\n",
       "}\n",
       "\n",
       "#sk-container-id-1 div.sk-label label.sk-toggleable__label,\n",
       "#sk-container-id-1 div.sk-label label {\n",
       "  /* The background is the default theme color */\n",
       "  color: var(--sklearn-color-text-on-default-background);\n",
       "}\n",
       "\n",
       "/* On hover, darken the color of the background */\n",
       "#sk-container-id-1 div.sk-label:hover label.sk-toggleable__label {\n",
       "  color: var(--sklearn-color-text);\n",
       "  background-color: var(--sklearn-color-unfitted-level-2);\n",
       "}\n",
       "\n",
       "/* Label box, darken color on hover, fitted */\n",
       "#sk-container-id-1 div.sk-label.fitted:hover label.sk-toggleable__label.fitted {\n",
       "  color: var(--sklearn-color-text);\n",
       "  background-color: var(--sklearn-color-fitted-level-2);\n",
       "}\n",
       "\n",
       "/* Estimator label */\n",
       "\n",
       "#sk-container-id-1 div.sk-label label {\n",
       "  font-family: monospace;\n",
       "  font-weight: bold;\n",
       "  display: inline-block;\n",
       "  line-height: 1.2em;\n",
       "}\n",
       "\n",
       "#sk-container-id-1 div.sk-label-container {\n",
       "  text-align: center;\n",
       "}\n",
       "\n",
       "/* Estimator-specific */\n",
       "#sk-container-id-1 div.sk-estimator {\n",
       "  font-family: monospace;\n",
       "  border: 1px dotted var(--sklearn-color-border-box);\n",
       "  border-radius: 0.25em;\n",
       "  box-sizing: border-box;\n",
       "  margin-bottom: 0.5em;\n",
       "  /* unfitted */\n",
       "  background-color: var(--sklearn-color-unfitted-level-0);\n",
       "}\n",
       "\n",
       "#sk-container-id-1 div.sk-estimator.fitted {\n",
       "  /* fitted */\n",
       "  background-color: var(--sklearn-color-fitted-level-0);\n",
       "}\n",
       "\n",
       "/* on hover */\n",
       "#sk-container-id-1 div.sk-estimator:hover {\n",
       "  /* unfitted */\n",
       "  background-color: var(--sklearn-color-unfitted-level-2);\n",
       "}\n",
       "\n",
       "#sk-container-id-1 div.sk-estimator.fitted:hover {\n",
       "  /* fitted */\n",
       "  background-color: var(--sklearn-color-fitted-level-2);\n",
       "}\n",
       "\n",
       "/* Specification for estimator info (e.g. \"i\" and \"?\") */\n",
       "\n",
       "/* Common style for \"i\" and \"?\" */\n",
       "\n",
       ".sk-estimator-doc-link,\n",
       "a:link.sk-estimator-doc-link,\n",
       "a:visited.sk-estimator-doc-link {\n",
       "  float: right;\n",
       "  font-size: smaller;\n",
       "  line-height: 1em;\n",
       "  font-family: monospace;\n",
       "  background-color: var(--sklearn-color-background);\n",
       "  border-radius: 1em;\n",
       "  height: 1em;\n",
       "  width: 1em;\n",
       "  text-decoration: none !important;\n",
       "  margin-left: 1ex;\n",
       "  /* unfitted */\n",
       "  border: var(--sklearn-color-unfitted-level-1) 1pt solid;\n",
       "  color: var(--sklearn-color-unfitted-level-1);\n",
       "}\n",
       "\n",
       ".sk-estimator-doc-link.fitted,\n",
       "a:link.sk-estimator-doc-link.fitted,\n",
       "a:visited.sk-estimator-doc-link.fitted {\n",
       "  /* fitted */\n",
       "  border: var(--sklearn-color-fitted-level-1) 1pt solid;\n",
       "  color: var(--sklearn-color-fitted-level-1);\n",
       "}\n",
       "\n",
       "/* On hover */\n",
       "div.sk-estimator:hover .sk-estimator-doc-link:hover,\n",
       ".sk-estimator-doc-link:hover,\n",
       "div.sk-label-container:hover .sk-estimator-doc-link:hover,\n",
       ".sk-estimator-doc-link:hover {\n",
       "  /* unfitted */\n",
       "  background-color: var(--sklearn-color-unfitted-level-3);\n",
       "  color: var(--sklearn-color-background);\n",
       "  text-decoration: none;\n",
       "}\n",
       "\n",
       "div.sk-estimator.fitted:hover .sk-estimator-doc-link.fitted:hover,\n",
       ".sk-estimator-doc-link.fitted:hover,\n",
       "div.sk-label-container:hover .sk-estimator-doc-link.fitted:hover,\n",
       ".sk-estimator-doc-link.fitted:hover {\n",
       "  /* fitted */\n",
       "  background-color: var(--sklearn-color-fitted-level-3);\n",
       "  color: var(--sklearn-color-background);\n",
       "  text-decoration: none;\n",
       "}\n",
       "\n",
       "/* Span, style for the box shown on hovering the info icon */\n",
       ".sk-estimator-doc-link span {\n",
       "  display: none;\n",
       "  z-index: 9999;\n",
       "  position: relative;\n",
       "  font-weight: normal;\n",
       "  right: .2ex;\n",
       "  padding: .5ex;\n",
       "  margin: .5ex;\n",
       "  width: min-content;\n",
       "  min-width: 20ex;\n",
       "  max-width: 50ex;\n",
       "  color: var(--sklearn-color-text);\n",
       "  box-shadow: 2pt 2pt 4pt #999;\n",
       "  /* unfitted */\n",
       "  background: var(--sklearn-color-unfitted-level-0);\n",
       "  border: .5pt solid var(--sklearn-color-unfitted-level-3);\n",
       "}\n",
       "\n",
       ".sk-estimator-doc-link.fitted span {\n",
       "  /* fitted */\n",
       "  background: var(--sklearn-color-fitted-level-0);\n",
       "  border: var(--sklearn-color-fitted-level-3);\n",
       "}\n",
       "\n",
       ".sk-estimator-doc-link:hover span {\n",
       "  display: block;\n",
       "}\n",
       "\n",
       "/* \"?\"-specific style due to the `<a>` HTML tag */\n",
       "\n",
       "#sk-container-id-1 a.estimator_doc_link {\n",
       "  float: right;\n",
       "  font-size: 1rem;\n",
       "  line-height: 1em;\n",
       "  font-family: monospace;\n",
       "  background-color: var(--sklearn-color-background);\n",
       "  border-radius: 1rem;\n",
       "  height: 1rem;\n",
       "  width: 1rem;\n",
       "  text-decoration: none;\n",
       "  /* unfitted */\n",
       "  color: var(--sklearn-color-unfitted-level-1);\n",
       "  border: var(--sklearn-color-unfitted-level-1) 1pt solid;\n",
       "}\n",
       "\n",
       "#sk-container-id-1 a.estimator_doc_link.fitted {\n",
       "  /* fitted */\n",
       "  border: var(--sklearn-color-fitted-level-1) 1pt solid;\n",
       "  color: var(--sklearn-color-fitted-level-1);\n",
       "}\n",
       "\n",
       "/* On hover */\n",
       "#sk-container-id-1 a.estimator_doc_link:hover {\n",
       "  /* unfitted */\n",
       "  background-color: var(--sklearn-color-unfitted-level-3);\n",
       "  color: var(--sklearn-color-background);\n",
       "  text-decoration: none;\n",
       "}\n",
       "\n",
       "#sk-container-id-1 a.estimator_doc_link.fitted:hover {\n",
       "  /* fitted */\n",
       "  background-color: var(--sklearn-color-fitted-level-3);\n",
       "}\n",
       "</style><div id=\"sk-container-id-1\" class=\"sk-top-container\"><div class=\"sk-text-repr-fallback\"><pre>RidgeClassifier(fit_intercept=False)</pre><b>In a Jupyter environment, please rerun this cell to show the HTML representation or trust the notebook. <br />On GitHub, the HTML representation is unable to render, please try loading this page with nbviewer.org.</b></div><div class=\"sk-container\" hidden><div class=\"sk-item\"><div class=\"sk-estimator fitted sk-toggleable\"><input class=\"sk-toggleable__control sk-hidden--visually\" id=\"sk-estimator-id-1\" type=\"checkbox\" checked><label for=\"sk-estimator-id-1\" class=\"sk-toggleable__label fitted sk-toggleable__label-arrow fitted\">&nbsp;&nbsp;RidgeClassifier<a class=\"sk-estimator-doc-link fitted\" rel=\"noreferrer\" target=\"_blank\" href=\"https://scikit-learn.org/1.4/modules/generated/sklearn.linear_model.RidgeClassifier.html\">?<span>Documentation for RidgeClassifier</span></a><span class=\"sk-estimator-doc-link fitted\">i<span>Fitted</span></span></label><div class=\"sk-toggleable__content fitted\"><pre>RidgeClassifier(fit_intercept=False)</pre></div> </div></div></div></div>"
      ],
      "text/plain": [
       "RidgeClassifier(fit_intercept=False)"
      ]
     },
     "execution_count": 9,
     "metadata": {},
     "output_type": "execute_result"
    }
   ],
   "source": [
    "ridge_clf_1 = RidgeClassifier(fit_intercept=False) # intercept not needed since data already centered\n",
    "ridge_clf_1.fit(X_train_transformed, y_train)"
   ]
  },
  {
   "cell_type": "code",
   "execution_count": 10,
   "metadata": {},
   "outputs": [
    {
     "name": "stdout",
     "output_type": "stream",
     "text": [
      "              precision    recall  f1-score   support\n",
      "\n",
      "           0       0.00      0.00      0.00        41\n",
      "           1       0.00      0.00      0.00         8\n",
      "           2       0.00      0.00      0.00        47\n",
      "           3       1.00      0.02      0.04        47\n",
      "           4       0.83      0.21      0.34        47\n",
      "           5       0.67      0.17      0.27        96\n",
      "\n",
      "   micro avg       0.71      0.09      0.17       286\n",
      "   macro avg       0.42      0.07      0.11       286\n",
      "weighted avg       0.53      0.09      0.15       286\n",
      " samples avg       0.04      0.02      0.03       286\n",
      "\n"
     ]
    }
   ],
   "source": [
    "predictions = ridge_clf_1.predict(X_val_transformed)\n",
    "print(classification_report(y_val, predictions, zero_division=0))"
   ]
  },
  {
   "cell_type": "code",
   "execution_count": 11,
   "metadata": {},
   "outputs": [
    {
     "data": {
      "text/plain": [
       "((459, 6), (637, 6))"
      ]
     },
     "execution_count": 11,
     "metadata": {},
     "output_type": "execute_result"
    }
   ],
   "source": [
    "y_val[y_val.sum(axis=1) == 0].shape, y_val.shape"
   ]
  },
  {
   "cell_type": "markdown",
   "metadata": {},
   "source": [
    "Trying RidgeClassifiers with different alphas"
   ]
  },
  {
   "cell_type": "code",
   "execution_count": 12,
   "metadata": {},
   "outputs": [
    {
     "name": "stdout",
     "output_type": "stream",
     "text": [
      "              precision    recall  f1-score   support\n",
      "\n",
      "           0       0.00      0.00      0.00        41\n",
      "           1       0.00      0.00      0.00         8\n",
      "           2       0.00      0.00      0.00        47\n",
      "           3       1.00      0.02      0.04        47\n",
      "           4       0.83      0.21      0.34        47\n",
      "           5       0.67      0.17      0.27        96\n",
      "\n",
      "   micro avg       0.71      0.09      0.17       286\n",
      "   macro avg       0.42      0.07      0.11       286\n",
      "weighted avg       0.53      0.09      0.15       286\n",
      " samples avg       0.04      0.02      0.03       286\n",
      "\n"
     ]
    }
   ],
   "source": [
    "ridge_clf_2 = RidgeClassifier(fit_intercept=False, alpha=0.1) # intercept not needed since data already centered\n",
    "ridge_clf_2.fit(X_train_transformed, y_train)\n",
    "print(classification_report(y_val, ridge_clf_2.predict(X_val_transformed), zero_division=0))\n"
   ]
  },
  {
   "cell_type": "code",
   "execution_count": 13,
   "metadata": {},
   "outputs": [
    {
     "name": "stdout",
     "output_type": "stream",
     "text": [
      "              precision    recall  f1-score   support\n",
      "\n",
      "           0       0.00      0.00      0.00        41\n",
      "           1       0.00      0.00      0.00         8\n",
      "           2       0.00      0.00      0.00        47\n",
      "           3       1.00      0.02      0.04        47\n",
      "           4       0.83      0.21      0.34        47\n",
      "           5       0.67      0.17      0.27        96\n",
      "\n",
      "   micro avg       0.71      0.09      0.17       286\n",
      "   macro avg       0.42      0.07      0.11       286\n",
      "weighted avg       0.53      0.09      0.15       286\n",
      " samples avg       0.04      0.02      0.03       286\n",
      "\n"
     ]
    }
   ],
   "source": [
    "ridge_clf_3 = RidgeClassifier(fit_intercept=False, alpha=0.01) # intercept not needed since data already centered\n",
    "ridge_clf_3.fit(X_train_transformed, y_train)\n",
    "print(classification_report(y_val, ridge_clf_3.predict(X_val_transformed), zero_division=0))"
   ]
  },
  {
   "cell_type": "code",
   "execution_count": 14,
   "metadata": {},
   "outputs": [
    {
     "name": "stdout",
     "output_type": "stream",
     "text": [
      "              precision    recall  f1-score   support\n",
      "\n",
      "           0       0.00      0.00      0.00        41\n",
      "           1       0.00      0.00      0.00         8\n",
      "           2       0.00      0.00      0.00        47\n",
      "           3       1.00      0.02      0.04        47\n",
      "           4       0.83      0.21      0.34        47\n",
      "           5       0.68      0.18      0.28        96\n",
      "\n",
      "   micro avg       0.72      0.10      0.17       286\n",
      "   macro avg       0.42      0.07      0.11       286\n",
      "weighted avg       0.53      0.10      0.16       286\n",
      " samples avg       0.04      0.02      0.03       286\n",
      "\n"
     ]
    }
   ],
   "source": [
    "ridge_clf_4 = RidgeClassifier(fit_intercept=False, alpha=10) # intercept not needed since data already centered\n",
    "ridge_clf_4.fit(X_train_transformed, y_train)\n",
    "print(classification_report(y_val, ridge_clf_4.predict(X_val_transformed), zero_division=0))"
   ]
  },
  {
   "cell_type": "code",
   "execution_count": 15,
   "metadata": {},
   "outputs": [
    {
     "name": "stdout",
     "output_type": "stream",
     "text": [
      "              precision    recall  f1-score   support\n",
      "\n",
      "           0       0.00      0.00      0.00        41\n",
      "           1       0.00      0.00      0.00         8\n",
      "           2       0.00      0.00      0.00        47\n",
      "           3       1.00      0.02      0.04        47\n",
      "           4       0.67      0.17      0.27        47\n",
      "           5       0.68      0.18      0.28        96\n",
      "\n",
      "   micro avg       0.67      0.09      0.16       286\n",
      "   macro avg       0.39      0.06      0.10       286\n",
      "weighted avg       0.50      0.09      0.15       286\n",
      " samples avg       0.03      0.02      0.03       286\n",
      "\n"
     ]
    }
   ],
   "source": [
    "ridge_clf_5 = RidgeClassifier(fit_intercept=False, alpha=100) # intercept not needed since data already centered\n",
    "ridge_clf_5.fit(X_train_transformed, y_train)\n",
    "print(classification_report(y_val, ridge_clf_5.predict(X_val_transformed), zero_division=0))"
   ]
  },
  {
   "cell_type": "markdown",
   "metadata": {},
   "source": [
    "Seems like changing the alphas either has no influence or worsens the performers"
   ]
  },
  {
   "cell_type": "markdown",
   "metadata": {},
   "source": [
    "### LogisticRegression with ClassifierChains\n",
    "\n",
    "LogisticRegression inherently does not support any multilabel classification however when used as part of a ClassifierChain it can perform multilabel tasks. Furthermore ClassifierChains allow for exploiting correlations among targets. \n",
    "\n",
    "Clearly the order of the chain is important. The first model in the chain has no information about the other labels while the last model in the chain has features indicating the presence of all of the other labels. In general one does not know the optimal ordering of the models in the chain so typically many randomly ordered chains are fit and their predictions are averaged together."
   ]
  },
  {
   "cell_type": "code",
   "execution_count": 16,
   "metadata": {},
   "outputs": [],
   "source": [
    "def plot_jaccard_similarities_for_chains(chain_jaccard_scores, ensemble_jaccard_score, y_valid, Y_pred_ensemble, text):\n",
    "    # Prepare scores for plotting\n",
    "    model_scores = chain_jaccard_scores + [ensemble_jaccard_score]\n",
    "    model_names = [f\"Chain {i+1}\" for i in range(20)] + [\"Ensemble\"]\n",
    "    x_pos = np.arange(len(model_names))\n",
    "\n",
    "    valid_report = classification_report(y_valid, (Y_pred_ensemble >= 0.3).astype(int) , zero_division=0)\n",
    "    print(\"Validation Report (Ensemble):\\n\", valid_report)\n",
    "\n",
    "    # Plotting\n",
    "    fig, ax = plt.subplots(figsize=(7, 4))\n",
    "    ax.grid(True)\n",
    "    ax.set_title(text)\n",
    "    ax.set_xticks(x_pos)\n",
    "    ax.set_xticklabels(model_names, rotation=\"vertical\")\n",
    "    ax.set_ylabel(\"Jaccard Similarity Score\")\n",
    "    ax.set_ylim([min(model_scores) * 0.9, max(model_scores) * 1.1])\n",
    "    colors = [\"b\"] * 20 + [\"g\"]\n",
    "    ax.bar(x_pos, model_scores, alpha=0.5, color=colors)\n",
    "    plt.tight_layout()\n",
    "    plt.show()"
   ]
  },
  {
   "cell_type": "code",
   "execution_count": 17,
   "metadata": {},
   "outputs": [
    {
     "name": "stdout",
     "output_type": "stream",
     "text": [
      "Validation Report (Ensemble):\n",
      "               precision    recall  f1-score   support\n",
      "\n",
      "           0       0.45      0.37      0.41        41\n",
      "           1       0.29      0.25      0.27         8\n",
      "           2       0.35      0.17      0.23        47\n",
      "           3       0.60      0.38      0.47        47\n",
      "           4       0.65      0.55      0.60        47\n",
      "           5       0.51      0.39      0.44        96\n",
      "\n",
      "   micro avg       0.51      0.37      0.43       286\n",
      "   macro avg       0.47      0.35      0.40       286\n",
      "weighted avg       0.51      0.37      0.43       286\n",
      " samples avg       0.08      0.09      0.08       286\n",
      "\n"
     ]
    },
    {
     "data": {
      "image/png": "[encoded data removed]",
      "text/plain": [
       "<Figure size 700x400 with 1 Axes>"
      ]
     },
     "metadata": {},
     "output_type": "display_data"
    }
   ],
   "source": [
    "chains = []\n",
    "Y_pred_chains = []\n",
    "for i in range(20):\n",
    "    base_lr = LogisticRegression(solver='sag', max_iter=10000)\n",
    "    chain = ClassifierChain(base_estimator=base_lr, order=\"random\", random_state=i)\n",
    "    chain.fit(X_train_transformed, y_train)\n",
    "    chains.append(chain)\n",
    "    Y_pred_chain = chain.predict_proba(X_val_transformed)\n",
    "    Y_pred_chains.append(Y_pred_chain)\n",
    "\n",
    "# Calculate Jaccard Similarity Score for each chain\n",
    "chain_jaccard_scores = [jaccard_score(y_val, Y_pred_chain >= 0.3, average=\"samples\", zero_division=0) for Y_pred_chain in Y_pred_chains]\n",
    "    \n",
    "# Calculate Jaccard Similarity Score for ensemble\n",
    "Y_pred_ensemble = np.mean(Y_pred_chains, axis=0)\n",
    "ensemble_jaccard_score = jaccard_score(y_val, Y_pred_ensemble >= 0.3, average=\"samples\", zero_division=0)\n",
    "\n",
    "plot_jaccard_similarities_for_chains(chain_jaccard_scores, ensemble_jaccard_score, y_val, Y_pred_ensemble, \"Classifier Chain Ensemble Performance Comparison (Validation Set)\")"
   ]
  },
  {
   "cell_type": "markdown",
   "metadata": {},
   "source": [
    "As shown on the sklearn documentation, the ClassifierChain Ensemble should perform better than the other chains, however that is not the case here. We note that the threshold for a label to be positive has been reduced from 0.5 to 0.3 since we have almost three quarters of the data without any predicted label, thus the confidence is also low.\n",
    "\n",
    "We see that Chain 3 achiever the best results. Let's compute the metrics for this chain"
   ]
  },
  {
   "cell_type": "code",
   "execution_count": 18,
   "metadata": {},
   "outputs": [
    {
     "name": "stdout",
     "output_type": "stream",
     "text": [
      "Validation Report (Chain 3):\n",
      "               precision    recall  f1-score   support\n",
      "\n",
      "           0       0.48      0.32      0.38        41\n",
      "           1       0.29      0.25      0.27         8\n",
      "           2       0.32      0.17      0.22        47\n",
      "           3       0.55      0.34      0.42        47\n",
      "           4       0.64      0.62      0.63        47\n",
      "           5       0.49      0.39      0.43        96\n",
      "\n",
      "   micro avg       0.50      0.37      0.43       286\n",
      "   macro avg       0.46      0.35      0.39       286\n",
      "weighted avg       0.49      0.37      0.42       286\n",
      " samples avg       0.09      0.09      0.08       286\n",
      "\n"
     ]
    }
   ],
   "source": [
    "valid_report = classification_report(y_val, (Y_pred_chains[2] >= 0.3).astype(int) , zero_division=0)\n",
    "print(\"Validation Report (Chain 3):\\n\", valid_report)"
   ]
  },
  {
   "cell_type": "markdown",
   "metadata": {},
   "source": [
    "## Testing the final model (3rd chain)"
   ]
  },
  {
   "cell_type": "code",
   "execution_count": 19,
   "metadata": {},
   "outputs": [
    {
     "name": "stdout",
     "output_type": "stream",
     "text": [
      "Test Report (Chain 3):\n",
      "               precision    recall  f1-score   support\n",
      "\n",
      "           0       0.56      0.36      0.43        14\n",
      "           1       0.50      0.33      0.40         3\n",
      "           2       0.20      0.06      0.10        16\n",
      "           3       0.67      0.50      0.57        16\n",
      "           4       0.73      0.69      0.71        16\n",
      "           5       0.58      0.33      0.42        33\n",
      "\n",
      "   micro avg       0.60      0.38      0.46        98\n",
      "   macro avg       0.54      0.38      0.44        98\n",
      "weighted avg       0.55      0.38      0.44        98\n",
      " samples avg       0.08      0.08      0.07        98\n",
      "\n"
     ]
    }
   ],
   "source": [
    "X_test_transformed = preprocessor.transform(X_test)\n",
    "Y_pred_chain_test = chains[2].predict_proba(X_test_transformed)\n",
    "\n",
    "valid_report = classification_report(y_test, (Y_pred_chain_test >= 0.3).astype(int) , zero_division=0)\n",
    "print(\"Test Report (Chain 3):\\n\", valid_report)"
   ]
  },
  {
   "cell_type": "markdown",
   "metadata": {},
   "source": [
    "## Retraining with Validation set and testing"
   ]
  },
  {
   "cell_type": "code",
   "execution_count": 20,
   "metadata": {},
   "outputs": [],
   "source": [
    "X_trainval_transformed = preprocessor.fit_transform(X_trainval)\n",
    "X_test_transformed = preprocessor.transform(X_test)"
   ]
  },
  {
   "cell_type": "code",
   "execution_count": 21,
   "metadata": {},
   "outputs": [
    {
     "name": "stdout",
     "output_type": "stream",
     "text": [
      "Validation Report (Ensemble):\n",
      "               precision    recall  f1-score   support\n",
      "\n",
      "           0       0.60      0.43      0.50        14\n",
      "           1       1.00      0.67      0.80         3\n",
      "           2       0.60      0.19      0.29        16\n",
      "           3       0.64      0.44      0.52        16\n",
      "           4       0.75      0.56      0.64        16\n",
      "           5       0.62      0.39      0.48        33\n",
      "\n",
      "   micro avg       0.66      0.41      0.50        98\n",
      "   macro avg       0.70      0.45      0.54        98\n",
      "weighted avg       0.65      0.41      0.49        98\n",
      " samples avg       0.08      0.08      0.07        98\n",
      "\n"
     ]
    },
    {
     "data": {
      "image/png": "[encoded data removed]",
      "text/plain": [
       "<Figure size 700x400 with 1 Axes>"
      ]
     },
     "metadata": {},
     "output_type": "display_data"
    }
   ],
   "source": [
    "chains = []\n",
    "Y_pred_chains = []\n",
    "for i in range(20):\n",
    "    base_lr = LogisticRegression(solver='sag', max_iter=10000)\n",
    "    chain = ClassifierChain(base_estimator=base_lr, order=\"random\", random_state=i)\n",
    "    chain.fit(X_trainval_transformed, y_trainval)\n",
    "    chains.append(chain)\n",
    "    Y_pred_chain = chain.predict_proba(X_test_transformed)\n",
    "    Y_pred_chains.append(Y_pred_chain)\n",
    "\n",
    "# Calculate Jaccard Similarity Score for each chain\n",
    "chain_jaccard_scores = [jaccard_score(y_test, Y_pred_chain >= 0.3, average=\"samples\", zero_division=0) for Y_pred_chain in Y_pred_chains]\n",
    "    \n",
    "# Calculate Jaccard Similarity Score for ensemble\n",
    "Y_pred_ensemble = np.mean(Y_pred_chains, axis=0)\n",
    "ensemble_jaccard_score = jaccard_score(y_test, Y_pred_ensemble >= 0.3, average=\"samples\", zero_division=0)\n",
    "\n",
    "plot_jaccard_similarities_for_chains(chain_jaccard_scores, ensemble_jaccard_score, y_test, Y_pred_ensemble, \"Classifier Chain Ensemble Performance Comparison (Test Set)\")"
   ]
  },
  {
   "cell_type": "code",
   "execution_count": 22,
   "metadata": {},
   "outputs": [
    {
     "name": "stdout",
     "output_type": "stream",
     "text": [
      "Test Report (Chain 8):\n",
      "               precision    recall  f1-score   support\n",
      "\n",
      "           0       0.56      0.36      0.43        14\n",
      "           1       0.50      0.33      0.40         3\n",
      "           2       0.20      0.06      0.10        16\n",
      "           3       0.67      0.50      0.57        16\n",
      "           4       0.73      0.69      0.71        16\n",
      "           5       0.58      0.33      0.42        33\n",
      "\n",
      "   micro avg       0.60      0.38      0.46        98\n",
      "   macro avg       0.54      0.38      0.44        98\n",
      "weighted avg       0.55      0.38      0.44        98\n",
      " samples avg       0.08      0.08      0.07        98\n",
      "\n"
     ]
    }
   ],
   "source": [
    "test_report = classification_report(y_test, (Y_pred_chains[7] >= 0.3).astype(int) , zero_division=0)\n",
    "print(\"Test Report (Chain 8):\\n\", valid_report)"
   ]
  }
 ],
 "metadata": {
  "kernelspec": {
   "display_name": "Python 3",
   "language": "python",
   "name": "python3"
  },
  "language_info": {
   "codemirror_mode": {
    "name": "ipython",
    "version": 3
   },
   "file_extension": ".py",
   "mimetype": "text/x-python",
   "name": "python",
   "nbconvert_exporter": "python",
   "pygments_lexer": "ipython3",
   "version": "3.10.11"
  }
 },
 "nbformat": 4,
 "nbformat_minor": 2
}
